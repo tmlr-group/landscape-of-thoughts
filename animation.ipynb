{
 "cells": [
  {
   "cell_type": "markdown",
   "metadata": {},
   "source": [
    "## Draw the animiation using pre-computed data"
   ]
  },
  {
   "cell_type": "code",
   "execution_count": null,
   "metadata": {},
   "outputs": [],
   "source": [
    "from lot.animation import animation_plot\n",
    "\n",
    "model_name = 'Meta-Llama-3.1-70B-Instruct-Turbo'\n",
    "dataset_name = 'aqua'\n",
    "\n",
    "animation_list = animation_plot(\n",
    "    model_name = model_name,\n",
    "    dataset_name = dataset_name,\n",
    "    method = 'cot', # default: None, plot all methods: ['cot', 'l2m', 'mcts', 'tot']\n",
    "    plot_type = 'method',\n",
    "    save_root = \"Landscape-Data\",\n",
    "    save_video = False,\n",
    "    output_dir = \"figures/animation\",\n",
    "    speed_factor = 0.8,\n",
    "    base_fps = 30,\n",
    ")\n",
    "\n",
    "wrong_animation = animation_list[0][0]\n",
    "correct_animation = animation_list[0][1]"
   ]
  },
  {
   "cell_type": "markdown",
   "metadata": {},
   "source": [
    "## Correct Animation"
   ]
  },
  {
   "cell_type": "code",
   "execution_count": null,
   "metadata": {},
   "outputs": [],
   "source": [
    "from IPython.display import HTML\n",
    "import matplotlib.pyplot as plt\n",
    "plt.rcParams[\"animation.embed_limit\"] = 10000000000\n",
    "HTML(correct_animation.to_jshtml())"
   ]
  },
  {
   "cell_type": "markdown",
   "metadata": {},
   "source": [
    "## Wrong Animation"
   ]
  },
  {
   "cell_type": "code",
   "execution_count": null,
   "metadata": {},
   "outputs": [],
   "source": [
    "from IPython.display import HTML\n",
    "import matplotlib.pyplot as plt\n",
    "plt.rcParams[\"animation.embed_limit\"] = 10000000000\n",
    "HTML(wrong_animation.to_jshtml())"
   ]
  }
 ],
 "metadata": {
  "kernelspec": {
   "display_name": "post-training",
   "language": "python",
   "name": "python3"
  },
  "language_info": {
   "codemirror_mode": {
    "name": "ipython",
    "version": 3
   },
   "file_extension": ".py",
   "mimetype": "text/x-python",
   "name": "python",
   "nbconvert_exporter": "python",
   "pygments_lexer": "ipython3",
   "version": "3.10.15"
  }
 },
 "nbformat": 4,
 "nbformat_minor": 2
}
