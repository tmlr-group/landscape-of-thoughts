{
 "cells": [
  {
   "cell_type": "markdown",
   "metadata": {},
   "source": [
    "# 🌌 LLM Thought Landscape Visualization\n",
    "**Understanding Reasoning Patterns in Large Language Models**  \n",
    "*Visual Diagnostics for Chain-of-Thought Reasoning*  \n",
    "\n",
    "[![Open In Colab](https://colab.research.google.com/assets/colab-badge.svg)]()  \n",
    "\n",
    "## Table of Contents\n",
    "1. [Background & Motivation](#1)\n",
    "2. [Environment Setup](#2)\n",
    "3. [Data Preparation](#3)\n",
    "4. [Visualization](#4.1) \n",
    "\n",
    "- Miscellaneous:\n",
    "    - [Reasoning Trace Collection](#4.2)  \n",
    "    - [Semantic Distance Computation](#4.3)  \n",
    "   "
   ]
  },
  {
   "cell_type": "markdown",
   "metadata": {},
   "source": [
    "<a id=\"1\"></a>\n",
    "## 1. Background & Motivation\n",
    "\n",
    "### Why Thought Landscapes?\n",
    "Modern LLMs demonstrate impressive reasoning capabilities through techniques like chain-of-thought prompting, but their internal decision-making processes remain opaque. This notebook implements our novel visualization method that:\n",
    "\n",
    "1. **Maps reasoning paths** as 2D landscapes using semantic distance metrics\n",
    "2. **Identifies critical patterns**: \n",
    "   - Model capability boundaries\n",
    "   - Answer confidence levels\n",
    "   - Consistency between reasoning steps\n",
    "3. **Supports model diagnostics** through:\n",
    "   - Weak/Strong model differentiation\n",
    "   - Error cluster detection\n",
    "   - Uncertainty quantification\n",
    "\n",
    "**Key Innovation**: First method enabling direct visual comparison of different reasoning strategies (CoT, LeastToMost, ToT, and MCTS) across multiple choice questions."
   ]
  },
  {
   "cell_type": "markdown",
   "metadata": {},
   "source": [
    "<a id=\"2\"></a>\n",
    "## 2. Environment Setup\n"
   ]
  },
  {
   "cell_type": "code",
   "execution_count": null,
   "metadata": {},
   "outputs": [],
   "source": [
    "!pip install -q -r https://raw.githubusercontent.com/your_repo/main/requirements.txt\n",
    "!apt-get install git-lfs  # For handling large distance matrices\n",
    "\n",
    "import os\n",
    "TOGETHER_API = \"your_key_here\" \n",
    "os.environ['TOGETHERAI_API_KEY'] = TOGETHER_API"
   ]
  },
  {
   "cell_type": "markdown",
   "metadata": {},
   "source": [
    "<a id=\"3\"></a>\n",
    "## 3. Data Preparation\n",
    "\n",
    "We provide the exact same data used for visulizing the plot in our paper, you can use the following command to download the data.\n"
   ]
  },
  {
   "cell_type": "code",
   "execution_count": null,
   "metadata": {},
   "outputs": [],
   "source": [
    "!git lfs clone git@hf.co:datasets/GazeEzio/Landscape-Data"
   ]
  },
  {
   "cell_type": "markdown",
   "metadata": {},
   "source": [
    "The expected file tree is:\n",
    "\n",
    "```\n",
    "Landscape-of-Thoughts/\n",
    "│    ...\n",
    "├──  Landscape-Data/\n",
    "│    ├── aqua\n",
    "│    │   ├── distance_matrix\n",
    "│    │   └── thoughts\n",
    "│    └──...\n",
    "│   ...\n",
    "```"
   ]
  },
  {
   "cell_type": "markdown",
   "metadata": {},
   "source": [
    "<a id=\"4\"></a>\n",
    "## 4. Visualization"
   ]
  },
  {
   "cell_type": "code",
   "execution_count": null,
   "metadata": {},
   "outputs": [],
   "source": [
    "!python PLOT-landscape.py --model_name {MODEL_NAME} --dataset_name {DATASET_NAME}"
   ]
  },
  {
   "cell_type": "markdown",
   "metadata": {},
   "source": [
    "<a id=\"4.2\"></a>\n",
    "### 4.2 Semantic Distance Computation\n",
    "```python\n",
    "# @title Compute Distance Matrix\n",
    "!python step-2-compute-distance-matrix.py \\\n",
    "  --model_name {MODEL_NAME} \\\n",
    "  --dataset_name {DATASET_NAME} \\\n",
    "  --embedding_method semantic  # @param [\"semantic\", \"syntactic\"]"
   ]
  },
  {
   "cell_type": "markdown",
   "metadata": {},
   "source": [
    "<a id=\"4\"></a>\n",
    "## 4. Visualization\n",
    "\n",
    "<a id=\"4.1\"></a>\n",
    "### 4.1 Reasoning Trace Collection\n",
    "```python\n",
    "# @title Generate Reasoning Paths\n",
    "MODEL_NAME = \"meta-llama/Meta-Llama-3.1-8B-Instruct-Turbo\"  # @param [\"meta-llama/Meta-Llama-3.1-8B-Instruct-Turbo\", \"gpt-4\"]\n",
    "DATASET_NAME = \"aqua\"  # @param {type:\"string\"}\n",
    "\n",
    "!python step1-sample-reasoning-trace.py \\\n",
    "  --model_name {MODEL_NAME} \\\n",
    "  --dataset_name {DATASET_NAME} \\\n",
    "  --method cot  # @param [\"cot\", \"tot\", \"pot\"]"
   ]
  }
 ],
 "metadata": {
  "kernelspec": {
   "display_name": "post-training",
   "language": "python",
   "name": "python3"
  },
  "language_info": {
   "codemirror_mode": {
    "name": "ipython",
    "version": 3
   },
   "file_extension": ".py",
   "mimetype": "text/x-python",
   "name": "python",
   "nbconvert_exporter": "python",
   "pygments_lexer": "ipython3",
   "version": "3.10.15"
  }
 },
 "nbformat": 4,
 "nbformat_minor": 2
}
