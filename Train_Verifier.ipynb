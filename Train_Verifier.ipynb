{
    "cells": [
        {
            "cell_type": "markdown",
            "metadata": {},
            "source": [
                "## Training"
            ]
        },
        {
            "cell_type": "code",
            "execution_count": null,
            "metadata": {},
            "outputs": [],
            "source": [
                "from sklearn.preprocessing import LabelEncoder, StandardScaler\n",
                "from utils.train_utils import prepare_data_for_training, save_models_and_metrics, load_models_and_metrics\n",
                "from sklearn.metrics import accuracy_score, classification_report\n",
                "from joblib import dump, load\n",
                "import os\n",
                "from sklearn.model_selection import StratifiedKFold\n",
                "import torch\n",
                "import random\n",
                "import numpy as np \n",
                "import lightgbm as lgb\n",
                "\n",
                "def setup_seed(seed):\n",
                "     torch.manual_seed(seed)\n",
                "     torch.cuda.manual_seed_all(seed)\n",
                "     np.random.seed(seed)\n",
                "     random.seed(seed)\n",
                "     torch.backends.cudnn.deterministic = True\n",
                "\n",
                "setup_seed(42)\n",
                "\n",
                "def train(\n",
                "    dataset_configs,\n",
                "    mode = \"cls\",\n",
                "    model_type = 'lgb',\n",
                "    model_configs = {\n",
                "        'boosting_type': 'gbdt',\n",
                "        'num_leaves': 24,      \n",
                "        'max_depth': 8,           \n",
                "        'min_child_samples': 20,  \n",
                "        'min_child_weight': 10,  \n",
                "\n",
                "        'reg_alpha': 0.5,\n",
                "        'reg_lambda': 2.0,\n",
                "        'n_estimators': 2000,\n",
                "\n",
                "        'subsample': 0.7,          \n",
                "        'colsample_bytree': 0.7,   \n",
                "\n",
                "        'learning_rate': 0.01,\n",
                "        'scale_pos_weight': 0.3, # 1974/2628=0.75 (negative/positive), # 8B, 70B (cot, 0-cot, l2m, tot, mcts)\n",
                "\n",
                "        'objective': 'multiclass',\n",
                "        'metric': 'multi_logloss',\n",
                "        'random_state': 42,\n",
                "        'n_jobs': -1,\n",
                "        'verbose': -1,\n",
                "        'num_class': 2, # 2 for mode=='reg'; else 5\n",
                "    },\n",
                "    n_splits = 5,\n",
                "    verbose = False,\n",
                "    random_seed=42,\n",
                "    start_idx=0, end_idx=20\n",
                "):  \n",
                "\n",
                "    print(\"==> Preprocessing data\")\n",
                "    X, y, x_scaler, y_scaler, acc_infos = prepare_data_for_training(\n",
                "        dataset_configs,\n",
                "        verbose=verbose,\n",
                "        mode=mode\n",
                "    )\n",
                "\n",
                "    dump(\n",
                "        [X, y, x_scaler, y_scaler, acc_infos],\n",
                "        f\"training_data/processed_train_data/randomForest/all_cfgs_start-0_end-20.pkl\"\n",
                "    )\n",
                "    # X, y, x_scaler, y_scaler, acc_infos = load(f\"training_data/processed_train_data/randomForest/{dataset_configs}_cfgs_start-0_end-20.pkl\")\n",
                "    \n",
                "    print(X.shape)\n",
                "    print(y.shape)\n",
                "    val_scores = []\n",
                "    models = []\n",
                "    skf = StratifiedKFold(n_splits=n_splits, shuffle=True, random_state=random_seed)\n",
                "    for fold, (train_idx, val_idx) in enumerate(skf.split(X, y)):\n",
                "        print(f\"Training fold {fold + 1}/{n_splits}\")\n",
                "        \n",
                "        X_train, X_val = X[train_idx], X[val_idx]\n",
                "        y_train, y_val = y[train_idx], y[val_idx]\n",
                "        \n",
                "        # Create dataset for LightGBM\n",
                "        train_data = lgb.Dataset(X_train, label=y_train)\n",
                "        val_data = lgb.Dataset(X_val, label=y_val, reference=train_data)\n",
                "        \n",
                "        # Train model\n",
                "        model = lgb.train(\n",
                "            model_configs,\n",
                "            train_data,\n",
                "            valid_sets=[train_data, val_data],\n",
                "            callbacks=[\n",
                "                lgb.early_stopping(stopping_rounds=50),\n",
                "                lgb.log_evaluation(period=100)\n",
                "            ]\n",
                "        )\n",
                "        \n",
                "        # Predict and evaluate\n",
                "        val_preds = model.predict(X_val)\n",
                "        val_preds = np.argmax(val_preds, axis=1)\n",
                "        val_score = np.mean(val_preds == y_val)\n",
                "        \n",
                "        print(f\"Fold {fold + 1} Validation Accuracy: {val_score:.4f}\")\n",
                "        \n",
                "        val_scores.append(val_score)\n",
                "        models.append(model)\n",
                "    \n",
                "    print(f\"\\nMean CV Accuracy: {np.mean(val_scores):.4f} ± {np.std(val_scores):.4f}\")\n",
                "    \n",
                "    return (\n",
                "        models, \n",
                "        x_scaler, \n",
                "        y_scaler, \n",
                "        acc_infos['mean_voting_acc'], \n",
                "        acc_infos['mean_average_acc'],\n",
                "        (np.mean(val_scores), np.std(val_scores))\n",
                "    )\n",
                "\n",
                "def generate_dataset_configs(\n",
                "    start_idx=0,\n",
                "    end_idx=5,\n",
                "    specific_combinations=None\n",
                "):\n",
                "    \"\"\"\n",
                "    Generate dataset configurations with predefined options\n",
                "    \"\"\"\n",
                "    # Predefined options\n",
                "    DATASETS = ['aqua', 'mmlu', 'commonsenseqa', 'strategyqa'] \n",
                "    MODELS = [\n",
                "        # 'Llama3.2-1B-Instruct',\n",
                "        'Llama-3.2-3B-Instruct',\n",
                "        'Llama3.1-8B-Instruct',\n",
                "        'Meta-Llama-3.1-70B-Instruct-Turbo'\n",
                "    ]\n",
                "    METHODS = ['cot', 'zero_shot_cot', 'l2m']\n",
                "    \n",
                "    configs = []\n",
                "    \n",
                "    if specific_combinations:\n",
                "        # Use specific combinations if provided\n",
                "        for combo in specific_combinations:\n",
                "            config = {\n",
                "                'dataset': combo['dataset'],\n",
                "                'model': combo['model'],\n",
                "                'method': combo['method'],\n",
                "                'start_idx': start_idx,\n",
                "                'end_idx': end_idx\n",
                "            }\n",
                "            configs.append(config)\n",
                "    else:\n",
                "        # Generate all possible combinations\n",
                "        for dataset in DATASETS:\n",
                "            for model in MODELS:\n",
                "                for method in METHODS:\n",
                "                    config = {\n",
                "                        'dataset': dataset,\n",
                "                        'model': model,\n",
                "                        'method': method,\n",
                "                        'start_idx': start_idx,\n",
                "                        'end_idx': end_idx\n",
                "                    }\n",
                "                    configs.append(config)\n",
                "    \n",
                "    return configs\n",
                "\n",
                "# 1. Generate all combinations (48 combinations total: 4 datasets × 4 models × 3 methods)\n",
                "dataset_configs = generate_dataset_configs(start_idx=0, end_idx=20)\n",
                "\n",
                "print(\"\\n ==> Training \\n\")\n",
                "(\n",
                "    randomforest_models, randomforest_X_scaler, \n",
                "    randomforest_y_scaler, llm_train_voting_acc, llm_train_avg_acc,\n",
                "    randomforest_mean_std\n",
                ") = train(\n",
                "    dataset_configs=dataset_configs,\n",
                "    mode=\"reg\",\n",
                "    model_type='lgb',\n",
                "    start_idx=0, end_idx=20,\n",
                "    verbose=True\n",
                ")\n",
                "\n",
                "save_models_and_metrics(\n",
                "    randomforest_models, randomforest_X_scaler, \n",
                "    randomforest_y_scaler, llm_train_voting_acc, llm_train_avg_acc, randomforest_mean_std,\n",
                "    ckpt_dir=f\"ckpts/all_start_0_end_20\"\n",
                ")"
            ]
        },
        {
            "cell_type": "markdown",
            "metadata": {},
            "source": [
                "## Evaluation"
            ]
        },
        {
            "cell_type": "code",
            "execution_count": null,
            "metadata": {},
            "outputs": [],
            "source": [
                "from utils.visual_utils import get_sample_distance_matrix\n",
                "import numpy as np\n",
                "from scipy.stats import pearsonr\n",
                "import plotly.graph_objects as go\n",
                "import matplotlib.pyplot as plt\n",
                "from itertools import combinations\n",
                "import plotly.express as px\n",
                "from joblib import dump, load\n",
                "import os \n",
                "\n",
                "plt.style.use('default')\n",
                "\n",
                "def split_array_by_weight_percentiles(data, n_segments=5):\n",
                "    # Calculate percentile thresholds\n",
                "    percentiles = np.linspace(0, 100, n_segments + 1)\n",
                "    thresholds = np.percentile(data[:, 0], percentiles)\n",
                "    \n",
                "    segments = []\n",
                "    for i in range(n_segments):\n",
                "        if i == 0:\n",
                "            mask = data[:, 0] <= thresholds[1]\n",
                "        elif i == n_segments - 1:\n",
                "            mask = data[:, 0] > thresholds[-2]\n",
                "        else:\n",
                "            mask = (data[:, 0] > thresholds[i]) & (data[:, 0] <= thresholds[i + 1])\n",
                "        \n",
                "        segments.append(data[mask])\n",
                "    return segments\n",
                "\n",
                "def get_consistency_data(model, dataset, method, root='exp-data-scale_full'):\n",
                "    datas = get_sample_distance_matrix(model=model, dataset=dataset, method=method, root=root)\n",
                "    all_sample_chains = []\n",
                "    all_sample_answers = []\n",
                "    all_sample_gts = []\n",
                "    for _, plot_data in datas.items():\n",
                "        distance_matrix, coordinates_2d, num_thoughts_each_chain, num_chains, all_answers, answer_gt_short = plot_data.values()\n",
                "        # Collect points for each chain\n",
                "        sample_chains = []\n",
                "        for chain_idx in range(num_chains):\n",
                "            start_idx = sum(num_thoughts_each_chain[:chain_idx])\n",
                "            end_idx = sum(num_thoughts_each_chain[:chain_idx+1])\n",
                "            if end_idx <= start_idx:\n",
                "                continue\n",
                "            if dataset == \"strategyqa\":\n",
                "                if distance_matrix[start_idx:end_idx, :].shape[1] == 3:\n",
                "                    chain_distance = distance_matrix[start_idx:end_idx, 1:] # remove the (s, T)\n",
                "                else:\n",
                "                    chain_distance = distance_matrix[start_idx:end_idx, :]\n",
                "            elif dataset == \"mmlu\":\n",
                "                if distance_matrix[start_idx:end_idx, :].shape[1] == 5:\n",
                "                    chain_distance = distance_matrix[start_idx:end_idx, 1:] # remove the (s, T)\n",
                "                else:\n",
                "                    chain_distance = distance_matrix[start_idx:end_idx, :]\n",
                "            else:\n",
                "                if distance_matrix[start_idx:end_idx, :].shape[1] == 6:\n",
                "                    chain_distance = distance_matrix[start_idx:end_idx, 1:] # remove the (s, T)\n",
                "                else:\n",
                "                    chain_distance = distance_matrix[start_idx:end_idx, :]\n",
                "            \n",
                "            sample_chains.append(chain_distance)\n",
                "        all_sample_answers.append(all_answers)\n",
                "        all_sample_gts.append(answer_gt_short)\n",
                "        all_sample_chains.append(sample_chains)\n",
                "    \n",
                "    return all_sample_chains, all_sample_answers, all_sample_gts\n",
                "\n",
                "llm_consistency_records = {}\n",
                "for model in [\n",
                "    'Llama-3.2-1B-Instruct',\n",
                "    'Llama-3.2-3B-Instruct',\n",
                "    'Meta-Llama-3.1-8B-Instruct-Turbo',\n",
                "    'Meta-Llama-3.1-70B-Instruct-Turbo'\n",
                "]:\n",
                "    llm_consistency_records[model] = {}\n",
                "    for dataset in ['aqua', 'mmlu', 'commonsenseqa', 'strategyqa']: \n",
                "        llm_consistency_records[model][dataset] = {}\n",
                "        methods = ['cot', 'l2m', 'tot', 'mcts']\n",
                "        for method in methods:\n",
                "            \n",
                "            consistency_pkl_path = f\"correlation_plot_data/{model}-{dataset}-{method}.pkl\"\n",
                "            if os.path.exists(consistency_pkl_path):\n",
                "                all_sample_chains, all_sample_answers, all_sample_gts = load(consistency_pkl_path)\n",
                "            else:\n",
                "                print(f\"==> Processing {model}-{dataset}-{method}\")\n",
                "                if method in ['tot', 'mcts']:\n",
                "                    all_sample_chains, all_sample_answers, all_sample_gts = get_consistency_data(model, dataset, method, root='exp-data-searching')\n",
                "                else:\n",
                "                    all_sample_chains, all_sample_answers, all_sample_gts = get_consistency_data(model, dataset, method, root='exp-data-scale_full')\n",
                "                dump((all_sample_chains, all_sample_answers, all_sample_gts), consistency_pkl_path)\n",
                "            \n",
                "            llm_consistency_records[model][dataset][method] = {}\n",
                "            last_thought_chunk_recorder = {}\n",
                "\n",
                "            ANSWER_LIST = np.array([\"A\", \"B\", \"C\", \"D\", \"E\"])\n",
                "            sample_mean_accs = []\n",
                "            sample_mean_confs = []\n",
                "            for sample_idx, sample_chains in enumerate(all_sample_chains): # 50 samples\n",
                "                last_thought_chunk_recorder[sample_idx] = {}\n",
                "\n",
                "                chain_answers = all_sample_answers[sample_idx]\n",
                "                sample_gt = all_sample_gts[sample_idx]\n",
                "                # print(chain_answers) # 10\n",
                "                # print(sample_gt) # 1\n",
                "                confidence_list = []\n",
                "                acc_list = []\n",
                "                for chain_idx, chain in enumerate(sample_chains): # 10 CoT per sample\n",
                "                    last_thought_chunk_recorder[sample_idx][chain_idx] = {}\n",
                "                    model_pred = chain_answers[chain_idx]\n",
                "\n",
                "                    # * consistency of all thought with last thought\n",
                "                    if len(chain) <= 1:\n",
                "                        continue\n",
                "                    else:\n",
                "                        chain_without_last_thought, last_thought = chain[:-1], chain[-1]\n",
                "                        last_thought_answer = ANSWER_LIST[np.argmin(last_thought)]\n",
                "                        # average\n",
                "                        list_thought_consistency = []\n",
                "                        list_thought_conf = []\n",
                "                        for thought_idx, thought in enumerate(chain_without_last_thought):\n",
                "                            # thouhgt: (5, ) distance matrix\n",
                "                            thought_answer_idx = np.argmin(thought)\n",
                "                            consistency = ANSWER_LIST[thought_answer_idx] == last_thought_answer\n",
                "                            list_thought_consistency.append(consistency)\n",
                "                            list_thought_conf.append(thought[thought_answer_idx])\n",
                "\n",
                "                        last_thought_chunk_recorder[sample_idx][chain_idx] = {\n",
                "                            'acc': np.mean(list_thought_consistency),\n",
                "                            'conf': np.mean(list_thought_conf),\n",
                "                            'correctness': model_pred == sample_gt\n",
                "                        }\n",
                "\n",
                "            llm_consistency_records[model][dataset][method] = last_thought_chunk_recorder"
            ]
        },
        {
            "cell_type": "code",
            "execution_count": null,
            "metadata": {},
            "outputs": [],
            "source": [
                "from joblib import load, dump\n",
                "\n",
                "from utils.train_utils import *\n",
                "import numpy as np \n",
                "\n",
                "dataset_configs = \"all\"\n",
                "(\n",
                "    randomforest_models, randomforest_X_scaler, \n",
                "    randomforest_y_scaler, llm_train_voting_acc, llm_train_avg_acc, randomforest_mean_std\n",
                ") = load_models_and_metrics(\n",
                "    f\"ckpts/{dataset_configs}_start_0_end_20\"\n",
                ")\n",
                "\n",
                "randomforest_records = {}\n",
                "post_voting_accs = []\n",
                "for model in [\n",
                "    'Llama-3.2-1B-Instruct',\n",
                "    'Llama-3.2-3B-Instruct',\n",
                "    'Meta-Llama-3.1-8B-Instruct-Turbo',\n",
                "    'Meta-Llama-3.1-70B-Instruct-Turbo'\n",
                "]:\n",
                "    randomforest_records[model] = {}\n",
                "    for dataset in ['aqua', 'mmlu', 'commonsenseqa', 'strategyqa']: \n",
                "        randomforest_records[model][dataset] = {}\n",
                "        methods = ['cot', 'l2m', 'tot', 'mcts']\n",
                "        for method in methods:\n",
                "            dataset_configs = {\n",
                "                'model': model,\n",
                "                'dataset': dataset,\n",
                "                'method': method,\n",
                "                'start_idx': 0,\n",
                "                'end_idx': 50\n",
                "            }\n",
                "\n",
                "            if method in ['tot', 'mcts']:\n",
                "                root = \"exp-data-searching\"\n",
                "            else:\n",
                "                root = \"exp-data-scale_full\"\n",
                "            \n",
                "            processed_data_path = f\"./testing_data/randomForest/{dataset_configs['model']}-{dataset_configs['dataset']}-{dataset_configs['method']}_start-{dataset_configs['start_idx']}_end-{dataset_configs['end_idx']}.pkl\"\n",
                "            if os.path.exists(processed_data_path):\n",
                "                print(f\"==> Loading {model}--{method}--{dataset}...\")\n",
                "                (list_distance_matrix, list_num_chains, list_num_thoughts_each_chain,\n",
                "                    list_coordinates_2d, list_answers, list_answer_gt_short, list_normed_A) = load(\n",
                "                        f\"./testing_data/randomForest/{dataset_configs['model']}-{dataset_configs['dataset']}-{dataset_configs['method']}_start-{dataset_configs['start_idx']}_end-{dataset_configs['end_idx']}.pkl\"\n",
                "                    )\n",
                "            else:\n",
                "                (\n",
                "                    list_distance_matrix, list_num_chains, list_num_thoughts_each_chain,\n",
                "                    list_coordinates_2d, list_answers, list_answer_gt_short, list_normed_A\n",
                "                ) = load_sample_data(\n",
                "                    model=dataset_configs['model'],\n",
                "                    dataset=dataset_configs['dataset'],\n",
                "                    method=dataset_configs['method'],\n",
                "                    root=root,\n",
                "                    start_sample_idx=dataset_configs['start_idx'],\n",
                "                    end_sample_idx=dataset_configs['end_idx']\n",
                "                )\n",
                "                dump((list_distance_matrix, list_num_chains, list_num_thoughts_each_chain,\n",
                "                    list_coordinates_2d, list_answers, list_answer_gt_short, list_normed_A), processed_data_path)\n",
                "    \n",
                "            # Calculate LLM accuracies\n",
                "            voting_acc = vote_accuracy(list_answers, list_answer_gt_short)\n",
                "            average_acc = row_wise_accuracy(list_answers, list_answer_gt_short)\n",
                "            print(f\"==> LLM Voting Acc: {voting_acc:.2f}\")\n",
                "            # print(f\"==> LLM Average Acc: {average_acc:.2f}\")\n",
                "\n",
                "            # Initialize accumulators for this configuration\n",
                "            config_voting_accs = []\n",
                "            config_avg_accs = []\n",
                "            config_predictions = []\n",
                "            config_raw_predictions = []\n",
                "            config_true_labels = []\n",
                "            config_confidences = []\n",
                "\n",
                "            # Process each sample\n",
                "            for sample_idx in range(len(list_num_chains)):\n",
                "                # Load chain data\n",
                "                # we have K chain persample\n",
                "                _, test_chain_matrix = load_chain_data(\n",
                "                    sample_idx=sample_idx,\n",
                "                    list_num_chains=list_num_chains,\n",
                "                    list_num_thoughts_each_chain=list_num_thoughts_each_chain,\n",
                "                    list_coordinates_2d=list_coordinates_2d,\n",
                "                    list_distance_matrix=list_distance_matrix,\n",
                "                    list_answers=list_answers,\n",
                "                    list_answer_gt_short=list_answer_gt_short,\n",
                "                    mode='reg',\n",
                "                )\n",
                "\n",
                "                # Evaluate using random forest\n",
                "                results = eval_random_forest(\n",
                "                    data=test_chain_matrix,\n",
                "                    meta_info={\n",
                "                        'dataset': dataset_configs['dataset'],\n",
                "                        'model': dataset_configs['model'],\n",
                "                        'method': dataset_configs['method'],\n",
                "                    },\n",
                "                    x_scaler=randomforest_X_scaler,\n",
                "                    y_scaler=randomforest_y_scaler,\n",
                "                    models=randomforest_models,\n",
                "                    model_pred_mode='reg'\n",
                "                )\n",
                "\n",
                "                # Collect results\n",
                "                config_voting_accs.append(results['voting_acc'])\n",
                "                config_avg_accs.append(results['avg_acc'])\n",
                "                config_true_labels.extend(results['y'])\n",
                "                config_predictions.extend(results['predictions'])\n",
                "                config_raw_predictions.append(results['raw_predicitons'])\n",
                "\n",
                "                # using prediciton as weight/mask for voting with LLM prediction\n",
                "                post_model_verifys = results['predictions']\n",
                "                llm_predictions = list_answers[sample_idx]\n",
                "                ground_truth = list_answer_gt_short[sample_idx]\n",
                "                result = [x for x, m in zip(llm_predictions, post_model_verifys) if m]\n",
                "                if len(result):\n",
                "                    post_voting_accs.append(max(set(result), key=result.count) == ground_truth)\n",
                "                else:\n",
                "                    post_voting_accs.append(0)\n",
                "            \n",
                "            randomforest_records[model][dataset][method] = {\n",
                "                'llm voting_acc': voting_acc,\n",
                "                'llm avg_acc': average_acc,\n",
                "                'post voting_acc': np.mean(post_voting_accs),\n",
                "                'post verify_acc': np.mean(config_avg_accs),\n",
                "                'predictions': config_predictions,\n",
                "                'raw_predictions': config_raw_predictions,\n",
                "                'llm_predictions': list_answers,\n",
                "                'list_answer_gt_short': list_answer_gt_short\n",
                "            }\n",
                "\n",
                "            # Print configuration results\n",
                "            print(f\"\\nConfiguration Results:\")\n",
                "            # print(f\"Voting Accuracy: {np.mean(post_voting_accs):.4f}\")\n",
                "            print(f\"RandomForest Binary Accuracy: {np.mean(config_avg_accs):.4f}\")"
            ]
        },
        {
            "cell_type": "markdown",
            "metadata": {},
            "source": [
                "## Process voting"
            ]
        },
        {
            "cell_type": "markdown",
            "metadata": {},
            "source": [
                "$\\text{vote}(A, W) = \\underset{c \\in C}{\\arg\\max} \\text{ } \\lambda \\sum_{i=1}^n w_i \\cdot \\mathbb{1}[a_i = c] + \\beta \\cdot \\text{consistency} + C$\n",
                "\n",
                "where:\n",
                "\n",
                "- $A = {a_1, ..., a_n}$ is the set of answers\n",
                "- $W = {w_1, ..., w_n}$ is the set of Neural Verifier prediction confidence\n",
                "- $C$ is the set of unique choices in $A$\n",
                "- $\\mathbb{1}[a_i = c]$ is the indicator function that equals 1 if $a_i = c$ and 0 otherwise"
            ]
        },
        {
            "cell_type": "code",
            "execution_count": null,
            "metadata": {},
            "outputs": [],
            "source": [
                "'''\n",
                "randomforest_records\n",
                "    ├── Llama-3.2-1B-Instruct\n",
                "    ├── aqua\n",
                "    │   ├── cot\n",
                "    │   │   ├── llm voting_acc\n",
                "    │   │   ├── llm avg_acc\n",
                "    │   │   ├── post voting_acc\n",
                "    │   │   ├── post verify_acc\n",
                "    │   │   ├── predictions\n",
                "    │   │   ├── raw_predictions <== (sample, chain, n_anchors, 2 (T/F))\n",
                "    │   │   ├── llm_predictions \n",
                "    │   │   └── list_answer_gt_short\n",
                "    │   ├── l2m\n",
                "\n",
                "llm_consistency_records\n",
                "├── Llama-3.2-1B-Instruct\n",
                "│   ├── aqua\n",
                "│   │   ├── cot\n",
                "│   │   │   ├── 0 sample\n",
                "│   │   │   │   ├── 0 chain\n",
                "│   │   │   │   │   ├── acc\n",
                "│   │   │   │   │   ├── conf\n",
                "│   │   │   │   │   └── correctness\n",
                "│   │   │   │   ├── 1\n",
                "│   │   │   │   │   ├── acc\n",
                "│   │   │   │   │   ├── conf\n",
                "│   │   │   │   │   └── correctness\n",
                "'''\n",
                "\n",
                "\n",
                "for sample_idx in range(50):\n",
                "    list_chain_consistency = []\n",
                "    for chain_idx in range(10):\n",
                "        list_chain_consistency.append(llm_consistency_records['Llama-3.2-1B-Instruct']['aqua']['cot'][sample_idx].get(chain_idx, {}).get('conf', 0))\n"
            ]
        },
        {
            "cell_type": "code",
            "execution_count": null,
            "metadata": {},
            "outputs": [],
            "source": [
                "from einops import rearrange, reduce\n",
                "\n",
                "def weighted_vote(answers, weights):\n",
                "    # processed_answers = ['A' if x == '' else x for x in answers]\n",
                "    weighted_votes = {}\n",
                "    for ans, w in zip(answers, weights):\n",
                "        weighted_votes[ans] = weighted_votes.get(ans, 0) + w\n",
                "    return max(weighted_votes.items(), key=lambda x: x[1])[0]\n",
                "\n",
                "def voting_with_consistency(dataset_name, method, randomforest_records, llm_consistency_records, LAMBDA, BETA, C):\n",
                "    methods = [method]\n",
                "    for model in sorted(randomforest_records.keys()):\n",
                "        for method_idx, method in enumerate(methods):\n",
                "            if method in randomforest_records[model][dataset_name]:\n",
                "                print(f'==> {dataset_name}-{model}-{method}')\n",
                "                method_preds = randomforest_records[model][dataset_name][method]['raw_predictions']\n",
                "\n",
                "                mean_preds = []\n",
                "                for method_pred in method_preds:\n",
                "                    mean_pred = reduce(method_pred, 'n_samples n_predictors n_classes -> n_samples n_classes', 'mean')\n",
                "                    reweighting_pred = mean_pred[:, 1] / (mean_pred[:, 0] + mean_pred[:, 1]) # NOTE: True / (Flase + True)\n",
                "                    mean_preds.append(reweighting_pred)\n",
                "\n",
                "                accs = []\n",
                "                \n",
                "                for sample_idx, verifier_weights in enumerate(mean_preds):\n",
                "                    llm_answers = randomforest_records[model][dataset_name][method]['llm_predictions'][sample_idx]\n",
                "                    # NOTE: here is the voting mechanism\n",
                "\n",
                "                    chain_consistency = []\n",
                "                    for chain_idx in range(len(verifier_weights)):\n",
                "                        chain_consistency.append(llm_consistency_records[model][dataset_name][method][sample_idx].get(chain_idx, {}).get('conf', 0))\n",
                "                    # print(len(verifier_weights), len(chain_consistency))\n",
                "                    chain_weight = LAMBDA * np.array(verifier_weights) + BETA * np.array(chain_consistency) + C\n",
                "                    # print(chain_weight)\n",
                "                    gt_answer = randomforest_records[model][dataset_name][method]['list_answer_gt_short'][sample_idx]\n",
                "                    accs.append(weighted_vote(llm_answers, chain_weight) == gt_answer)\n",
                "\n",
                "                print(np.mean(accs))\n",
                "\n",
                "\n",
                "dataset_name = 'mmlu'\n",
                "method = 'tot'\n",
                "LAMBDA = 0.5\n",
                "BETA = 0.5\n",
                "C = 1\n",
                "\n",
                "voting_with_consistency(dataset_name, method, randomforest_records, llm_consistency_records, LAMBDA, BETA, C)"
            ]
        },
        {
            "cell_type": "markdown",
            "metadata": {},
            "source": [
                "## Inference scaling"
            ]
        },
        {
            "cell_type": "code",
            "execution_count": null,
            "metadata": {},
            "outputs": [],
            "source": [
                "from joblib import load\n",
                "\n",
                "from utils.train_utils import *\n",
                "import numpy as np \n",
                "\n",
                "def vote_accuracy_K_chain(list_answers, list_answer_gt_short, K):\n",
                "    truncated_answers = [row[:K] for row in list_answers]\n",
                "    voted_answers = [Counter(row).most_common(1)[0][0] if row else '' \n",
                "                    for row in truncated_answers]\n",
                "    return sum(v == g for v, g in zip(voted_answers, list_answer_gt_short)) / len(list_answer_gt_short)\n",
                "\n",
                "def row_wise_accuracy_K_chain(list_answers, list_answer_gt_short, K):\n",
                "    truncated_answers = [row[:K] for row in list_answers]\n",
                "    row_accs = [sum(ans == gt for ans in row if ans != '') / len([a for a in row if a != ''])\n",
                "                if any(a != '' for a in row) else 0.0\n",
                "                for row, gt in zip(truncated_answers, list_answer_gt_short)]\n",
                "    return sum(row_accs) / len(row_accs)\n",
                "\n",
                "dataset_configs = \"all\"\n",
                "(\n",
                "    randomforest_models, randomforest_X_scaler, \n",
                "    randomforest_y_scaler, llm_train_voting_acc, llm_train_avg_acc, randomforest_mean_std\n",
                ") = load_models_and_metrics(\n",
                "    f\"ckpts/{dataset_configs}_start_0_end_20\"\n",
                ")\n",
                "\n",
                "# ! inference scaling factor\n",
                "NUM_THOUGHTS = 35\n",
                "\n",
                "records = {}\n",
                "post_voting_accs = []\n",
                "for model in [\n",
                "    'Llama-3.2-3B-Instruct-Turbo',\n",
                "    'Meta-Llama-3.1-8B-Instruct-Turbo',\n",
                "]:\n",
                "    records[model] = {}\n",
                "    for dataset in ['strategyqa']: \n",
                "        records[model][dataset] = {}\n",
                "        methods = ['cot']\n",
                "        for method in methods:\n",
                "            dataset_configs = {\n",
                "                'model': model,\n",
                "                'dataset': dataset,\n",
                "                'method': method,\n",
                "                'start_idx': 0,\n",
                "                'end_idx': 50\n",
                "            }\n",
                "\n",
                "            root = \"./exp-data-inference-scaling\"\n",
                "            print(f\"==> Loading {model}--{method}--{dataset}...\")\n",
                "            # (\n",
                "            #     list_distance_matrix, list_num_chains, list_num_thoughts_each_chain,\n",
                "            #     list_coordinates_2d, list_answers, list_answer_gt_short, list_normed_A\n",
                "            # ) = load_sample_data(\n",
                "            #     model=dataset_configs['model'],\n",
                "            #     dataset=dataset_configs['dataset'],\n",
                "            #     method=dataset_configs['method'],\n",
                "            #     root=root,\n",
                "            #     start_sample_idx=dataset_configs['start_idx'],\n",
                "            #     end_sample_idx=dataset_configs['end_idx']\n",
                "            # )\n",
                "            (\n",
                "                list_distance_matrix, list_num_chains, list_num_thoughts_each_chain,\n",
                "                list_coordinates_2d, list_answers, list_answer_gt_short, list_normed_A\n",
                "            ) = load(f'exp-data-inference-scaling/strategyqa/preprocess_data/{model}_{method}_{dataset}.pkl')\n",
                "            # dump([list_distance_matrix, list_num_chains, list_num_thoughts_each_chain,\n",
                "            #     list_coordinates_2d, list_answers, list_answer_gt_short, list_normed_A],\n",
                "            #     f'exp-data-inference-scaling/strategyqa/preprocess_data/{model}_{method}_{dataset}.pkl')\n",
                "\n",
                "            print(f'==> Inference scaling for {NUM_THOUGHTS} thoughts')\n",
                "            list_num_chains = [NUM_THOUGHTS] * len(list_num_chains)\n",
                "            # Calculate LLM accuracies\n",
                "            voting_acc = vote_accuracy_K_chain(list_answers, list_answer_gt_short, NUM_THOUGHTS)\n",
                "            average_acc = row_wise_accuracy_K_chain(list_answers, list_answer_gt_short, NUM_THOUGHTS)\n",
                "            print(f\"==> LLM Voting Acc: {voting_acc:.2f}\")\n",
                "            print(f\"==> LLM Average Acc: {average_acc:.2f}\")\n",
                "\n",
                "            # Initialize accumulators for this configuration\n",
                "            config_voting_accs = []\n",
                "            config_avg_accs = []\n",
                "            config_predictions = []\n",
                "            config_raw_predictions = []\n",
                "            config_true_labels = []\n",
                "            config_confidences = []\n",
                "\n",
                "            # Process each sample\n",
                "            for sample_idx in range(len(list_num_chains)):\n",
                "                # Load chain data\n",
                "                # we have K chain persample\n",
                "                _, test_chain_matrix = load_chain_data(\n",
                "                    sample_idx=sample_idx,\n",
                "                    list_num_chains=list_num_chains,\n",
                "                    list_num_thoughts_each_chain=list_num_thoughts_each_chain,\n",
                "                    list_coordinates_2d=list_coordinates_2d,\n",
                "                    list_distance_matrix=list_distance_matrix,\n",
                "                    list_answers=list_answers,\n",
                "                    list_answer_gt_short=list_answer_gt_short,\n",
                "                    mode='reg',\n",
                "                )\n",
                "\n",
                "                # Evaluate using random forest\n",
                "                results = eval_random_forest(\n",
                "                    data=test_chain_matrix,\n",
                "                    meta_info={\n",
                "                        'dataset': dataset_configs['dataset'],\n",
                "                        'model': dataset_configs['model'],\n",
                "                        'method': dataset_configs['method'],\n",
                "                    },\n",
                "                    x_scaler=randomforest_X_scaler,\n",
                "                    y_scaler=randomforest_y_scaler,\n",
                "                    models=randomforest_models,\n",
                "                    model_pred_mode='reg'\n",
                "                )\n",
                "\n",
                "                # Collect results\n",
                "                config_voting_accs.append(results['voting_acc'])\n",
                "                config_avg_accs.append(results['avg_acc'])\n",
                "                config_true_labels.extend(results['y'])\n",
                "                config_predictions.extend(results['predictions'])\n",
                "                config_raw_predictions.append(results['raw_predicitons'])\n",
                "\n",
                "                # using prediciton as weight/mask for voting with LLM prediction\n",
                "                post_model_verifys = results['predictions']\n",
                "                llm_predictions = list_answers[sample_idx]\n",
                "                ground_truth = list_answer_gt_short[sample_idx]\n",
                "                result = [x for x, m in zip(llm_predictions, post_model_verifys) if m]\n",
                "                if len(result):\n",
                "                    post_voting_accs.append(max(set(result), key=result.count) == ground_truth)\n",
                "                else:\n",
                "                    post_voting_accs.append(0)\n",
                "            \n",
                "            records[model][dataset][method] = {\n",
                "                'llm voting_acc': voting_acc,\n",
                "                'llm avg_acc': average_acc,\n",
                "                'post voting_acc': np.mean(post_voting_accs),\n",
                "                'post verify_acc': np.mean(config_avg_accs),\n",
                "                'predictions': config_predictions,\n",
                "                'raw_predictions': config_raw_predictions,\n",
                "                'llm_predictions': list_answers,\n",
                "                'list_answer_gt_short': list_answer_gt_short\n",
                "            }\n",
                "\n",
                "            # Print configuration results\n",
                "            print(f\"\\nConfiguration Results:\")\n",
                "            print(f\"Voting Accuracy: {np.mean(post_voting_accs):.4f}\")\n",
                "            print(f\"Average Accuracy: {np.mean(config_avg_accs):.4f}\")"
            ]
        },
        {
            "cell_type": "markdown",
            "metadata": {},
            "source": [
                "- 1 thoughts\n",
                "==> Loading Llama-3.2-3B-Instruct-Turbo--cot--strategyqa...\n",
                "==> Inference scaling for 1 thoughts\n",
                "==> LLM Voting Acc: 0.32\n",
                "==> LLM Average Acc: 0.32\n",
                "\n",
                "Configuration Results:\n",
                "Voting Accuracy: 0.1200\n",
                "Average Accuracy: 0.7000\n",
                "==> Loading Meta-Llama-3.1-8B-Instruct-Turbo--cot--strategyqa...\n",
                "==> Inference scaling for 1 thoughts\n",
                "==> LLM Voting Acc: 0.24\n",
                "==> LLM Average Acc: 0.24\n",
                "\n",
                "Configuration Results:\n",
                "Voting Accuracy: 0.1300\n",
                "Average Accuracy: 0.8000\n",
                "\n",
                "- 5 thoughts\n",
                "==> Loading Llama-3.2-3B-Instruct-Turbo--cot--strategyqa...\n",
                "==> Inference scaling for 5 thoughts\n",
                "==> LLM Voting Acc: 0.36\n",
                "==> LLM Average Acc: 0.37\n",
                "\n",
                "Configuration Results:\n",
                "Voting Accuracy: 0.2200\n",
                "Average Accuracy: 0.6360\n",
                "==> Loading Meta-Llama-3.1-8B-Instruct-Turbo--cot--strategyqa...\n",
                "==> Inference scaling for 5 thoughts\n",
                "==> LLM Voting Acc: 0.26\n",
                "==> LLM Average Acc: 0.32\n",
                "\n",
                "Configuration Results:\n",
                "Voting Accuracy: 0.3600\n",
                "Average Accuracy: 0.8040\n",
                "\n",
                "- 10 thoughts\n",
                "==> Loading Llama-3.2-3B-Instruct-Turbo--cot--strategyqa...\n",
                "==> Inference scaling for 10 thoughts\n",
                "==> LLM Voting Acc: 0.30\n",
                "==> LLM Average Acc: 0.37\n",
                "\n",
                "Configuration Results:\n",
                "Voting Accuracy: 0.3400\n",
                "Average Accuracy: 0.6440\n",
                "==> Loading Meta-Llama-3.1-8B-Instruct-Turbo--cot--strategyqa...\n",
                "==> Inference scaling for 10 thoughts\n",
                "==> LLM Voting Acc: 0.30\n",
                "==> LLM Average Acc: 0.33\n",
                "\n",
                "Configuration Results:\n",
                "Voting Accuracy: 0.4300\n",
                "Average Accuracy: 0.7880\n",
                "\n",
                "- 15 thoughts\n",
                "==> Loading Llama-3.2-3B-Instruct-Turbo--cot--strategyqa...\n",
                "==> Inference scaling for 15 thoughts\n",
                "==> LLM Voting Acc: 0.40\n",
                "==> LLM Average Acc: 0.39\n",
                "\n",
                "Configuration Results:\n",
                "Voting Accuracy: 0.4400\n",
                "Average Accuracy: 0.6413\n",
                "==> Loading Meta-Llama-3.1-8B-Instruct-Turbo--cot--strategyqa...\n",
                "==> Inference scaling for 15 thoughts\n",
                "==> LLM Voting Acc: 0.22\n",
                "==> LLM Average Acc: 0.34\n",
                "\n",
                "Configuration Results:\n",
                "Voting Accuracy: 0.4900\n",
                "Average Accuracy: 0.7907\n",
                "\n",
                "- 20 thoughts\n",
                "==> Loading Llama-3.2-3B-Instruct-Turbo--cot--strategyqa...\n",
                "==> Inference scaling for 20 thoughts\n",
                "==> LLM Voting Acc: 0.30\n",
                "==> LLM Average Acc: 0.38\n",
                "\n",
                "Configuration Results:\n",
                "Voting Accuracy: 0.4600\n",
                "Average Accuracy: 0.6410\n",
                "==> Loading Meta-Llama-3.1-8B-Instruct-Turbo--cot--strategyqa...\n",
                "==> Inference scaling for 20 thoughts\n",
                "==> LLM Voting Acc: 0.22\n",
                "==> LLM Average Acc: 0.33\n",
                "\n",
                "Configuration Results:\n",
                "Voting Accuracy: 0.5200\n",
                "Average Accuracy: 0.7970\n",
                "\n",
                "- 25 thoughts\n",
                "==> Loading Llama-3.2-3B-Instruct-Turbo--cot--strategyqa...\n",
                "==> Inference scaling for 25 thoughts\n",
                "==> LLM Voting Acc: 0.28\n",
                "==> LLM Average Acc: 0.37\n",
                "\n",
                "Configuration Results:\n",
                "Voting Accuracy: 0.5200\n",
                "Average Accuracy: 0.6528\n",
                "==> Loading Meta-Llama-3.1-8B-Instruct-Turbo--cot--strategyqa...\n",
                "==> Inference scaling for 25 thoughts\n",
                "==> LLM Voting Acc: 0.26\n",
                "==> LLM Average Acc: 0.33\n",
                "\n",
                "Configuration Results:\n",
                "Voting Accuracy: 0.5500\n",
                "Average Accuracy: 0.8032\n",
                "\n",
                "- 30 thoughts\n",
                "==> Loading Llama-3.2-3B-Instruct-Turbo--cot--strategyqa...\n",
                "==> Inference scaling for 30 thoughts\n",
                "==> LLM Voting Acc: 0.26\n",
                "==> LLM Average Acc: 0.37\n",
                "\n",
                "Configuration Results:\n",
                "Voting Accuracy: 0.5600\n",
                "Average Accuracy: 0.6613\n",
                "==> Loading Meta-Llama-3.1-8B-Instruct-Turbo--cot--strategyqa...\n",
                "==> Inference scaling for 30 thoughts\n",
                "==> LLM Voting Acc: 0.24\n",
                "==> LLM Average Acc: 0.33\n",
                "\n",
                "Configuration Results:\n",
                "Voting Accuracy: 0.5800\n",
                "Average Accuracy: 0.8047\n",
                "\n",
                "- 35 thoughts\n",
                "==> Loading Llama-3.2-3B-Instruct-Turbo--cot--strategyqa...\n",
                "==> Inference scaling for 35 thoughts\n",
                "==> LLM Voting Acc: 0.24\n",
                "==> LLM Average Acc: 0.37\n",
                "\n",
                "Configuration Results:\n",
                "Voting Accuracy: 0.6000\n",
                "Average Accuracy: 0.6651\n",
                "==> Loading Meta-Llama-3.1-8B-Instruct-Turbo--cot--strategyqa...\n",
                "==> Inference scaling for 35 thoughts\n",
                "==> LLM Voting Acc: 0.28\n",
                "==> LLM Average Acc: 0.33\n",
                "\n",
                "Configuration Results:\n",
                "Voting Accuracy: 0.6200\n",
                "Average Accuracy: 0.8017\n",
                "\n",
                "- 40 thoughts\n",
                "==> Loading Llama-3.2-3B-Instruct-Turbo--cot--strategyqa...\n",
                "==> Inference scaling for 40 thoughts\n",
                "==> LLM Voting Acc: 0.24\n",
                "==> LLM Average Acc: 0.37\n",
                "\n",
                "Configuration Results:\n",
                "Voting Accuracy: 0.6800\n",
                "Average Accuracy: 0.6685\n",
                "==> Loading Meta-Llama-3.1-8B-Instruct-Turbo--cot--strategyqa...\n",
                "==> Inference scaling for 40 thoughts\n",
                "==> LLM Voting Acc: 0.26\n",
                "==> LLM Average Acc: 0.33\n",
                "\n",
                "Configuration Results:\n",
                "Voting Accuracy: 0.6600\n",
                "Average Accuracy: 0.8010\n",
                "\n",
                "- 45 thoughts\n",
                "==> Loading Llama-3.2-3B-Instruct-Turbo--cot--strategyqa...\n",
                "==> Inference scaling for 45 thoughts\n",
                "==> LLM Voting Acc: 0.24\n",
                "==> LLM Average Acc: 0.37\n",
                "\n",
                "Configuration Results:\n",
                "Voting Accuracy: 0.6600\n",
                "Average Accuracy: 0.6698\n",
                "==> Loading Meta-Llama-3.1-8B-Instruct-Turbo--cot--strategyqa...\n",
                "==> Inference scaling for 45 thoughts\n",
                "==> LLM Voting Acc: 0.26\n",
                "==> LLM Average Acc: 0.33\n",
                "\n",
                "Configuration Results:\n",
                "Voting Accuracy: 0.6600\n",
                "Average Accuracy: 0.8022\n",
                "\n",
                "- 50 thoughts\n",
                "==> Loading Llama-3.2-3B-Instruct-Turbo--cot--strategyqa...\n",
                "==> Inference scaling for 45 thoughts\n",
                "==> LLM Voting Acc: 0.24\n",
                "==> LLM Average Acc: 0.37\n",
                "\n",
                "Configuration Results:\n",
                "Voting Accuracy: 0.6600\n",
                "Average Accuracy: 0.6698\n",
                "==> Loading Meta-Llama-3.1-8B-Instruct-Turbo--cot--strategyqa...\n",
                "==> Inference scaling for 45 thoughts\n",
                "==> LLM Voting Acc: 0.26\n",
                "==> LLM Average Acc: 0.33\n",
                "\n",
                "Configuration Results:\n",
                "Voting Accuracy: 0.6600\n",
                "Average Accuracy: 0.8022"
            ]
        },
        {
            "cell_type": "code",
            "execution_count": 19,
            "metadata": {},
            "outputs": [],
            "source": [
                "# 输入数据\n",
                "data = \"\"\"\n",
                "- 1 thoughts\n",
                "==> Loading Llama-3.2-3B-Instruct-Turbo--cot--strategyqa...\n",
                "==> Inference scaling for 1 thoughts\n",
                "==> LLM Voting Acc: 0.32\n",
                "==> LLM Average Acc: 0.32\n",
                "\n",
                "Configuration Results:\n",
                "Voting Accuracy: 0.1200\n",
                "Average Accuracy: 0.7000\n",
                "==> Loading Meta-Llama-3.1-8B-Instruct-Turbo--cot--strategyqa...\n",
                "==> Inference scaling for 1 thoughts\n",
                "==> LLM Voting Acc: 0.24\n",
                "==> LLM Average Acc: 0.24\n",
                "\n",
                "Configuration Results:\n",
                "Voting Accuracy: 0.1300\n",
                "Average Accuracy: 0.8000\n",
                "\n",
                "- 5 thoughts\n",
                "==> Loading Llama-3.2-3B-Instruct-Turbo--cot--strategyqa...\n",
                "==> Inference scaling for 5 thoughts\n",
                "==> LLM Voting Acc: 0.36\n",
                "==> LLM Average Acc: 0.37\n",
                "\n",
                "Configuration Results:\n",
                "Voting Accuracy: 0.2200\n",
                "Average Accuracy: 0.6360\n",
                "==> Loading Meta-Llama-3.1-8B-Instruct-Turbo--cot--strategyqa...\n",
                "==> Inference scaling for 5 thoughts\n",
                "==> LLM Voting Acc: 0.26\n",
                "==> LLM Average Acc: 0.32\n",
                "\n",
                "Configuration Results:\n",
                "Voting Accuracy: 0.3600\n",
                "Average Accuracy: 0.8040\n",
                "\n",
                "- 10 thoughts\n",
                "==> Loading Llama-3.2-3B-Instruct-Turbo--cot--strategyqa...\n",
                "==> Inference scaling for 10 thoughts\n",
                "==> LLM Voting Acc: 0.30\n",
                "==> LLM Average Acc: 0.37\n",
                "\n",
                "Configuration Results:\n",
                "Voting Accuracy: 0.3400\n",
                "Average Accuracy: 0.6440\n",
                "==> Loading Meta-Llama-3.1-8B-Instruct-Turbo--cot--strategyqa...\n",
                "==> Inference scaling for 10 thoughts\n",
                "==> LLM Voting Acc: 0.30\n",
                "==> LLM Average Acc: 0.33\n",
                "\n",
                "Configuration Results:\n",
                "Voting Accuracy: 0.4300\n",
                "Average Accuracy: 0.7880\n",
                "\n",
                "- 15 thoughts\n",
                "==> Loading Llama-3.2-3B-Instruct-Turbo--cot--strategyqa...\n",
                "==> Inference scaling for 15 thoughts\n",
                "==> LLM Voting Acc: 0.40\n",
                "==> LLM Average Acc: 0.39\n",
                "\n",
                "Configuration Results:\n",
                "Voting Accuracy: 0.4400\n",
                "Average Accuracy: 0.6413\n",
                "==> Loading Meta-Llama-3.1-8B-Instruct-Turbo--cot--strategyqa...\n",
                "==> Inference scaling for 15 thoughts\n",
                "==> LLM Voting Acc: 0.22\n",
                "==> LLM Average Acc: 0.34\n",
                "\n",
                "Configuration Results:\n",
                "Voting Accuracy: 0.4900\n",
                "Average Accuracy: 0.7907\n",
                "\n",
                "- 20 thoughts\n",
                "==> Loading Llama-3.2-3B-Instruct-Turbo--cot--strategyqa...\n",
                "==> Inference scaling for 20 thoughts\n",
                "==> LLM Voting Acc: 0.30\n",
                "==> LLM Average Acc: 0.38\n",
                "\n",
                "Configuration Results:\n",
                "Voting Accuracy: 0.4600\n",
                "Average Accuracy: 0.6410\n",
                "==> Loading Meta-Llama-3.1-8B-Instruct-Turbo--cot--strategyqa...\n",
                "==> Inference scaling for 20 thoughts\n",
                "==> LLM Voting Acc: 0.22\n",
                "==> LLM Average Acc: 0.33\n",
                "\n",
                "Configuration Results:\n",
                "Voting Accuracy: 0.5200\n",
                "Average Accuracy: 0.7970\n",
                "\n",
                "- 25 thoughts\n",
                "==> Loading Llama-3.2-3B-Instruct-Turbo--cot--strategyqa...\n",
                "==> Inference scaling for 25 thoughts\n",
                "==> LLM Voting Acc: 0.28\n",
                "==> LLM Average Acc: 0.37\n",
                "\n",
                "Configuration Results:\n",
                "Voting Accuracy: 0.5200\n",
                "Average Accuracy: 0.6528\n",
                "==> Loading Meta-Llama-3.1-8B-Instruct-Turbo--cot--strategyqa...\n",
                "==> Inference scaling for 25 thoughts\n",
                "==> LLM Voting Acc: 0.26\n",
                "==> LLM Average Acc: 0.33\n",
                "\n",
                "Configuration Results:\n",
                "Voting Accuracy: 0.5500\n",
                "Average Accuracy: 0.8032\n",
                "\n",
                "- 30 thoughts\n",
                "==> Loading Llama-3.2-3B-Instruct-Turbo--cot--strategyqa...\n",
                "==> Inference scaling for 30 thoughts\n",
                "==> LLM Voting Acc: 0.26\n",
                "==> LLM Average Acc: 0.37\n",
                "\n",
                "Configuration Results:\n",
                "Voting Accuracy: 0.5600\n",
                "Average Accuracy: 0.6613\n",
                "==> Loading Meta-Llama-3.1-8B-Instruct-Turbo--cot--strategyqa...\n",
                "==> Inference scaling for 30 thoughts\n",
                "==> LLM Voting Acc: 0.24\n",
                "==> LLM Average Acc: 0.33\n",
                "\n",
                "Configuration Results:\n",
                "Voting Accuracy: 0.5800\n",
                "Average Accuracy: 0.8047\n",
                "\n",
                "- 35 thoughts\n",
                "==> Loading Llama-3.2-3B-Instruct-Turbo--cot--strategyqa...\n",
                "==> Inference scaling for 35 thoughts\n",
                "==> LLM Voting Acc: 0.24\n",
                "==> LLM Average Acc: 0.37\n",
                "\n",
                "Configuration Results:\n",
                "Voting Accuracy: 0.6000\n",
                "Average Accuracy: 0.6651\n",
                "==> Loading Meta-Llama-3.1-8B-Instruct-Turbo--cot--strategyqa...\n",
                "==> Inference scaling for 35 thoughts\n",
                "==> LLM Voting Acc: 0.28\n",
                "==> LLM Average Acc: 0.33\n",
                "\n",
                "Configuration Results:\n",
                "Voting Accuracy: 0.6200\n",
                "Average Accuracy: 0.8017\n",
                "\n",
                "- 40 thoughts\n",
                "==> Loading Llama-3.2-3B-Instruct-Turbo--cot--strategyqa...\n",
                "==> Inference scaling for 40 thoughts\n",
                "==> LLM Voting Acc: 0.24\n",
                "==> LLM Average Acc: 0.37\n",
                "\n",
                "Configuration Results:\n",
                "Voting Accuracy: 0.6800\n",
                "Average Accuracy: 0.6685\n",
                "==> Loading Meta-Llama-3.1-8B-Instruct-Turbo--cot--strategyqa...\n",
                "==> Inference scaling for 40 thoughts\n",
                "==> LLM Voting Acc: 0.26\n",
                "==> LLM Average Acc: 0.33\n",
                "\n",
                "Configuration Results:\n",
                "Voting Accuracy: 0.6600\n",
                "Average Accuracy: 0.8010\n",
                "\n",
                "- 45 thoughts\n",
                "==> Loading Llama-3.2-3B-Instruct-Turbo--cot--strategyqa...\n",
                "==> Inference scaling for 45 thoughts\n",
                "==> LLM Voting Acc: 0.24\n",
                "==> LLM Average Acc: 0.37\n",
                "\n",
                "Configuration Results:\n",
                "Voting Accuracy: 0.6600\n",
                "Average Accuracy: 0.6698\n",
                "==> Loading Meta-Llama-3.1-8B-Instruct-Turbo--cot--strategyqa...\n",
                "==> Inference scaling for 45 thoughts\n",
                "==> LLM Voting Acc: 0.26\n",
                "==> LLM Average Acc: 0.33\n",
                "\n",
                "Configuration Results:\n",
                "Voting Accuracy: 0.6600\n",
                "Average Accuracy: 0.8022\n",
                "\n",
                "- 50 thoughts\n",
                "==> Loading Llama-3.2-3B-Instruct-Turbo--cot--strategyqa...\n",
                "==> Inference scaling for 45 thoughts\n",
                "==> LLM Voting Acc: 0.24\n",
                "==> LLM Average Acc: 0.37\n",
                "\n",
                "Configuration Results:\n",
                "Voting Accuracy: 0.6600\n",
                "Average Accuracy: 0.6698\n",
                "==> Loading Meta-Llama-3.1-8B-Instruct-Turbo--cot--strategyqa...\n",
                "==> Inference scaling for 45 thoughts\n",
                "==> LLM Voting Acc: 0.26\n",
                "==> LLM Average Acc: 0.33\n",
                "\n",
                "Configuration Results:\n",
                "Voting Accuracy: 0.6600\n",
                "Average Accuracy: 0.8022\n",
                "\"\"\"\n",
                "\n",
                "# 解析数据\n",
                "import re\n",
                "\n",
                "# 正则表达式匹配关键信息\n",
                "pattern = re.compile(\n",
                "    r\"==> Loading (.*?)\\n\"\n",
                "    r\".*?\"\n",
                "    r\"==> LLM Voting Acc: (.*?)\\n\"\n",
                "    r\"==> LLM Average Acc: (.*?)\\n\"\n",
                "    r\".*?\"\n",
                "    r\"Voting Accuracy: (.*?)\\n\"\n",
                "    r\"Average Accuracy: (.*?)\\n\",\n",
                "    re.DOTALL\n",
                ")\n",
                "\n",
                "# 提取数据\n",
                "results = []\n",
                "for match in pattern.finditer(data):\n",
                "    config = match.group(1)  # 配置名称\n",
                "    llm_voting_acc = float(match.group(2))  # LLM Voting Accuracy\n",
                "    llm_avg_acc = float(match.group(3))  # LLM Average Accuracy\n",
                "    voting_acc = float(match.group(4))  # Voting Accuracy\n",
                "    avg_acc = float(match.group(5))  # Average Accuracy\n",
                "\n",
                "    results.append({\n",
                "        \"Config\": config,\n",
                "        \"LLM Voting Acc\": llm_voting_acc,\n",
                "        \"LLM Average Acc\": llm_avg_acc,\n",
                "        \"Voting Accuracy\": max(voting_acc, llm_voting_acc),\n",
                "        \"Average Accuracy\": avg_acc\n",
                "    })\n",
                "\n",
                "# 打印整理后的数据\n",
                "# for result in results:\n",
                "#     print(f\"Config: {result['Config']}\")\n",
                "#     print(f\"  LLM Voting Acc: {result['LLM Voting Acc']}\")\n",
                "#     # print(f\"  LLM Average Acc: {result['LLM Average Acc']}\")\n",
                "#     print(f\"  Voting Accuracy: {result['Voting Accuracy']}\")\n",
                "#     # print(f\"  Average Accuracy: {result['Average Accuracy']}\")"
            ]
        },
        {
            "cell_type": "code",
            "execution_count": 23,
            "metadata": {},
            "outputs": [
                {
                    "data": {
                        "application/vnd.plotly.v1+json": {
                            "config": {
                                "plotlyServerURL": "https://plot.ly"
                            },
                            "data": [
                                {
                                    "line": {
                                        "color": "#7DAEE0",
                                        "width": 2
                                    },
                                    "marker": {
                                        "size": 10,
                                        "symbol": "circle"
                                    },
                                    "mode": "lines+markers",
                                    "name": "3B (with verifier)  ",
                                    "type": "scatter",
                                    "x": [
                                        1,
                                        5,
                                        10,
                                        15,
                                        20,
                                        25,
                                        30,
                                        35,
                                        40,
                                        45,
                                        50
                                    ],
                                    "y": [
                                        0.32,
                                        0.36,
                                        0.34,
                                        0.44,
                                        0.46,
                                        0.52,
                                        0.56,
                                        0.6,
                                        0.68,
                                        0.66,
                                        0.66
                                    ]
                                },
                                {
                                    "line": {
                                        "color": "#7DAEE0",
                                        "dash": "dash",
                                        "width": 2
                                    },
                                    "marker": {
                                        "size": 10,
                                        "symbol": "circle"
                                    },
                                    "mode": "lines+markers",
                                    "name": "3B",
                                    "type": "scatter",
                                    "x": [
                                        1,
                                        5,
                                        10,
                                        15,
                                        20,
                                        25,
                                        30,
                                        35,
                                        40,
                                        45,
                                        50
                                    ],
                                    "y": [
                                        0.32,
                                        0.36,
                                        0.3,
                                        0.4,
                                        0.3,
                                        0.28,
                                        0.26,
                                        0.24,
                                        0.24,
                                        0.24,
                                        0.24
                                    ]
                                },
                                {
                                    "line": {
                                        "color": "#EA8379",
                                        "width": 2
                                    },
                                    "marker": {
                                        "size": 10,
                                        "symbol": "square"
                                    },
                                    "mode": "lines+markers",
                                    "name": "8B (with verifier)  ",
                                    "type": "scatter",
                                    "x": [
                                        1,
                                        5,
                                        10,
                                        15,
                                        20,
                                        25,
                                        30,
                                        35,
                                        40,
                                        45,
                                        50
                                    ],
                                    "y": [
                                        0.24,
                                        0.36,
                                        0.43,
                                        0.49,
                                        0.52,
                                        0.55,
                                        0.58,
                                        0.62,
                                        0.66,
                                        0.66,
                                        0.66
                                    ]
                                },
                                {
                                    "line": {
                                        "color": "#EA8379",
                                        "dash": "dash",
                                        "width": 2
                                    },
                                    "marker": {
                                        "size": 10,
                                        "symbol": "square"
                                    },
                                    "mode": "lines+markers",
                                    "name": "8B",
                                    "type": "scatter",
                                    "x": [
                                        1,
                                        5,
                                        10,
                                        15,
                                        20,
                                        25,
                                        30,
                                        35,
                                        40,
                                        45,
                                        50
                                    ],
                                    "y": [
                                        0.24,
                                        0.26,
                                        0.3,
                                        0.22,
                                        0.22,
                                        0.26,
                                        0.24,
                                        0.28,
                                        0.26,
                                        0.26,
                                        0.26
                                    ]
                                }
                            ],
                            "layout": {
                                "height": 500,
                                "legend": {
                                    "font": {
                                        "size": 35
                                    },
                                    "itemsizing": "constant",
                                    "itemwidth": 80,
                                    "orientation": "h",
                                    "x": 0.5,
                                    "xanchor": "center",
                                    "y": 1.03,
                                    "yanchor": "bottom"
                                },
                                "margin": {
                                    "b": 5,
                                    "l": 10,
                                    "r": 20,
                                    "t": 5
                                },
                                "template": {
                                    "data": {
                                        "bar": [
                                            {
                                                "error_x": {
                                                    "color": "#2a3f5f"
                                                },
                                                "error_y": {
                                                    "color": "#2a3f5f"
                                                },
                                                "marker": {
                                                    "line": {
                                                        "color": "#E5ECF6",
                                                        "width": 0.5
                                                    },
                                                    "pattern": {
                                                        "fillmode": "overlay",
                                                        "size": 10,
                                                        "solidity": 0.2
                                                    }
                                                },
                                                "type": "bar"
                                            }
                                        ],
                                        "barpolar": [
                                            {
                                                "marker": {
                                                    "line": {
                                                        "color": "#E5ECF6",
                                                        "width": 0.5
                                                    },
                                                    "pattern": {
                                                        "fillmode": "overlay",
                                                        "size": 10,
                                                        "solidity": 0.2
                                                    }
                                                },
                                                "type": "barpolar"
                                            }
                                        ],
                                        "carpet": [
                                            {
                                                "aaxis": {
                                                    "endlinecolor": "#2a3f5f",
                                                    "gridcolor": "white",
                                                    "linecolor": "white",
                                                    "minorgridcolor": "white",
                                                    "startlinecolor": "#2a3f5f"
                                                },
                                                "baxis": {
                                                    "endlinecolor": "#2a3f5f",
                                                    "gridcolor": "white",
                                                    "linecolor": "white",
                                                    "minorgridcolor": "white",
                                                    "startlinecolor": "#2a3f5f"
                                                },
                                                "type": "carpet"
                                            }
                                        ],
                                        "choropleth": [
                                            {
                                                "colorbar": {
                                                    "outlinewidth": 0,
                                                    "ticks": ""
                                                },
                                                "type": "choropleth"
                                            }
                                        ],
                                        "contour": [
                                            {
                                                "colorbar": {
                                                    "outlinewidth": 0,
                                                    "ticks": ""
                                                },
                                                "colorscale": [
                                                    [
                                                        0,
                                                        "#0d0887"
                                                    ],
                                                    [
                                                        0.1111111111111111,
                                                        "#46039f"
                                                    ],
                                                    [
                                                        0.2222222222222222,
                                                        "#7201a8"
                                                    ],
                                                    [
                                                        0.3333333333333333,
                                                        "#9c179e"
                                                    ],
                                                    [
                                                        0.4444444444444444,
                                                        "#bd3786"
                                                    ],
                                                    [
                                                        0.5555555555555556,
                                                        "#d8576b"
                                                    ],
                                                    [
                                                        0.6666666666666666,
                                                        "#ed7953"
                                                    ],
                                                    [
                                                        0.7777777777777778,
                                                        "#fb9f3a"
                                                    ],
                                                    [
                                                        0.8888888888888888,
                                                        "#fdca26"
                                                    ],
                                                    [
                                                        1,
                                                        "#f0f921"
                                                    ]
                                                ],
                                                "type": "contour"
                                            }
                                        ],
                                        "contourcarpet": [
                                            {
                                                "colorbar": {
                                                    "outlinewidth": 0,
                                                    "ticks": ""
                                                },
                                                "type": "contourcarpet"
                                            }
                                        ],
                                        "heatmap": [
                                            {
                                                "colorbar": {
                                                    "outlinewidth": 0,
                                                    "ticks": ""
                                                },
                                                "colorscale": [
                                                    [
                                                        0,
                                                        "#0d0887"
                                                    ],
                                                    [
                                                        0.1111111111111111,
                                                        "#46039f"
                                                    ],
                                                    [
                                                        0.2222222222222222,
                                                        "#7201a8"
                                                    ],
                                                    [
                                                        0.3333333333333333,
                                                        "#9c179e"
                                                    ],
                                                    [
                                                        0.4444444444444444,
                                                        "#bd3786"
                                                    ],
                                                    [
                                                        0.5555555555555556,
                                                        "#d8576b"
                                                    ],
                                                    [
                                                        0.6666666666666666,
                                                        "#ed7953"
                                                    ],
                                                    [
                                                        0.7777777777777778,
                                                        "#fb9f3a"
                                                    ],
                                                    [
                                                        0.8888888888888888,
                                                        "#fdca26"
                                                    ],
                                                    [
                                                        1,
                                                        "#f0f921"
                                                    ]
                                                ],
                                                "type": "heatmap"
                                            }
                                        ],
                                        "heatmapgl": [
                                            {
                                                "colorbar": {
                                                    "outlinewidth": 0,
                                                    "ticks": ""
                                                },
                                                "colorscale": [
                                                    [
                                                        0,
                                                        "#0d0887"
                                                    ],
                                                    [
                                                        0.1111111111111111,
                                                        "#46039f"
                                                    ],
                                                    [
                                                        0.2222222222222222,
                                                        "#7201a8"
                                                    ],
                                                    [
                                                        0.3333333333333333,
                                                        "#9c179e"
                                                    ],
                                                    [
                                                        0.4444444444444444,
                                                        "#bd3786"
                                                    ],
                                                    [
                                                        0.5555555555555556,
                                                        "#d8576b"
                                                    ],
                                                    [
                                                        0.6666666666666666,
                                                        "#ed7953"
                                                    ],
                                                    [
                                                        0.7777777777777778,
                                                        "#fb9f3a"
                                                    ],
                                                    [
                                                        0.8888888888888888,
                                                        "#fdca26"
                                                    ],
                                                    [
                                                        1,
                                                        "#f0f921"
                                                    ]
                                                ],
                                                "type": "heatmapgl"
                                            }
                                        ],
                                        "histogram": [
                                            {
                                                "marker": {
                                                    "pattern": {
                                                        "fillmode": "overlay",
                                                        "size": 10,
                                                        "solidity": 0.2
                                                    }
                                                },
                                                "type": "histogram"
                                            }
                                        ],
                                        "histogram2d": [
                                            {
                                                "colorbar": {
                                                    "outlinewidth": 0,
                                                    "ticks": ""
                                                },
                                                "colorscale": [
                                                    [
                                                        0,
                                                        "#0d0887"
                                                    ],
                                                    [
                                                        0.1111111111111111,
                                                        "#46039f"
                                                    ],
                                                    [
                                                        0.2222222222222222,
                                                        "#7201a8"
                                                    ],
                                                    [
                                                        0.3333333333333333,
                                                        "#9c179e"
                                                    ],
                                                    [
                                                        0.4444444444444444,
                                                        "#bd3786"
                                                    ],
                                                    [
                                                        0.5555555555555556,
                                                        "#d8576b"
                                                    ],
                                                    [
                                                        0.6666666666666666,
                                                        "#ed7953"
                                                    ],
                                                    [
                                                        0.7777777777777778,
                                                        "#fb9f3a"
                                                    ],
                                                    [
                                                        0.8888888888888888,
                                                        "#fdca26"
                                                    ],
                                                    [
                                                        1,
                                                        "#f0f921"
                                                    ]
                                                ],
                                                "type": "histogram2d"
                                            }
                                        ],
                                        "histogram2dcontour": [
                                            {
                                                "colorbar": {
                                                    "outlinewidth": 0,
                                                    "ticks": ""
                                                },
                                                "colorscale": [
                                                    [
                                                        0,
                                                        "#0d0887"
                                                    ],
                                                    [
                                                        0.1111111111111111,
                                                        "#46039f"
                                                    ],
                                                    [
                                                        0.2222222222222222,
                                                        "#7201a8"
                                                    ],
                                                    [
                                                        0.3333333333333333,
                                                        "#9c179e"
                                                    ],
                                                    [
                                                        0.4444444444444444,
                                                        "#bd3786"
                                                    ],
                                                    [
                                                        0.5555555555555556,
                                                        "#d8576b"
                                                    ],
                                                    [
                                                        0.6666666666666666,
                                                        "#ed7953"
                                                    ],
                                                    [
                                                        0.7777777777777778,
                                                        "#fb9f3a"
                                                    ],
                                                    [
                                                        0.8888888888888888,
                                                        "#fdca26"
                                                    ],
                                                    [
                                                        1,
                                                        "#f0f921"
                                                    ]
                                                ],
                                                "type": "histogram2dcontour"
                                            }
                                        ],
                                        "mesh3d": [
                                            {
                                                "colorbar": {
                                                    "outlinewidth": 0,
                                                    "ticks": ""
                                                },
                                                "type": "mesh3d"
                                            }
                                        ],
                                        "parcoords": [
                                            {
                                                "line": {
                                                    "colorbar": {
                                                        "outlinewidth": 0,
                                                        "ticks": ""
                                                    }
                                                },
                                                "type": "parcoords"
                                            }
                                        ],
                                        "pie": [
                                            {
                                                "automargin": true,
                                                "type": "pie"
                                            }
                                        ],
                                        "scatter": [
                                            {
                                                "fillpattern": {
                                                    "fillmode": "overlay",
                                                    "size": 10,
                                                    "solidity": 0.2
                                                },
                                                "type": "scatter"
                                            }
                                        ],
                                        "scatter3d": [
                                            {
                                                "line": {
                                                    "colorbar": {
                                                        "outlinewidth": 0,
                                                        "ticks": ""
                                                    }
                                                },
                                                "marker": {
                                                    "colorbar": {
                                                        "outlinewidth": 0,
                                                        "ticks": ""
                                                    }
                                                },
                                                "type": "scatter3d"
                                            }
                                        ],
                                        "scattercarpet": [
                                            {
                                                "marker": {
                                                    "colorbar": {
                                                        "outlinewidth": 0,
                                                        "ticks": ""
                                                    }
                                                },
                                                "type": "scattercarpet"
                                            }
                                        ],
                                        "scattergeo": [
                                            {
                                                "marker": {
                                                    "colorbar": {
                                                        "outlinewidth": 0,
                                                        "ticks": ""
                                                    }
                                                },
                                                "type": "scattergeo"
                                            }
                                        ],
                                        "scattergl": [
                                            {
                                                "marker": {
                                                    "colorbar": {
                                                        "outlinewidth": 0,
                                                        "ticks": ""
                                                    }
                                                },
                                                "type": "scattergl"
                                            }
                                        ],
                                        "scattermapbox": [
                                            {
                                                "marker": {
                                                    "colorbar": {
                                                        "outlinewidth": 0,
                                                        "ticks": ""
                                                    }
                                                },
                                                "type": "scattermapbox"
                                            }
                                        ],
                                        "scatterpolar": [
                                            {
                                                "marker": {
                                                    "colorbar": {
                                                        "outlinewidth": 0,
                                                        "ticks": ""
                                                    }
                                                },
                                                "type": "scatterpolar"
                                            }
                                        ],
                                        "scatterpolargl": [
                                            {
                                                "marker": {
                                                    "colorbar": {
                                                        "outlinewidth": 0,
                                                        "ticks": ""
                                                    }
                                                },
                                                "type": "scatterpolargl"
                                            }
                                        ],
                                        "scatterternary": [
                                            {
                                                "marker": {
                                                    "colorbar": {
                                                        "outlinewidth": 0,
                                                        "ticks": ""
                                                    }
                                                },
                                                "type": "scatterternary"
                                            }
                                        ],
                                        "surface": [
                                            {
                                                "colorbar": {
                                                    "outlinewidth": 0,
                                                    "ticks": ""
                                                },
                                                "colorscale": [
                                                    [
                                                        0,
                                                        "#0d0887"
                                                    ],
                                                    [
                                                        0.1111111111111111,
                                                        "#46039f"
                                                    ],
                                                    [
                                                        0.2222222222222222,
                                                        "#7201a8"
                                                    ],
                                                    [
                                                        0.3333333333333333,
                                                        "#9c179e"
                                                    ],
                                                    [
                                                        0.4444444444444444,
                                                        "#bd3786"
                                                    ],
                                                    [
                                                        0.5555555555555556,
                                                        "#d8576b"
                                                    ],
                                                    [
                                                        0.6666666666666666,
                                                        "#ed7953"
                                                    ],
                                                    [
                                                        0.7777777777777778,
                                                        "#fb9f3a"
                                                    ],
                                                    [
                                                        0.8888888888888888,
                                                        "#fdca26"
                                                    ],
                                                    [
                                                        1,
                                                        "#f0f921"
                                                    ]
                                                ],
                                                "type": "surface"
                                            }
                                        ],
                                        "table": [
                                            {
                                                "cells": {
                                                    "fill": {
                                                        "color": "#EBF0F8"
                                                    },
                                                    "line": {
                                                        "color": "white"
                                                    }
                                                },
                                                "header": {
                                                    "fill": {
                                                        "color": "#C8D4E3"
                                                    },
                                                    "line": {
                                                        "color": "white"
                                                    }
                                                },
                                                "type": "table"
                                            }
                                        ]
                                    },
                                    "layout": {
                                        "annotationdefaults": {
                                            "arrowcolor": "#2a3f5f",
                                            "arrowhead": 0,
                                            "arrowwidth": 1
                                        },
                                        "annotations": [
                                            {
                                                "font": {
                                                    "color": "black"
                                                }
                                            }
                                        ],
                                        "autotypenumbers": "strict",
                                        "coloraxis": {
                                            "colorbar": {
                                                "outlinewidth": 0,
                                                "tickfont": {
                                                    "color": "black"
                                                },
                                                "ticks": "",
                                                "title": {
                                                    "font": {
                                                        "color": "black"
                                                    }
                                                }
                                            }
                                        },
                                        "colorscale": {
                                            "diverging": [
                                                [
                                                    0,
                                                    "#8e0152"
                                                ],
                                                [
                                                    0.1,
                                                    "#c51b7d"
                                                ],
                                                [
                                                    0.2,
                                                    "#de77ae"
                                                ],
                                                [
                                                    0.3,
                                                    "#f1b6da"
                                                ],
                                                [
                                                    0.4,
                                                    "#fde0ef"
                                                ],
                                                [
                                                    0.5,
                                                    "#f7f7f7"
                                                ],
                                                [
                                                    0.6,
                                                    "#e6f5d0"
                                                ],
                                                [
                                                    0.7,
                                                    "#b8e186"
                                                ],
                                                [
                                                    0.8,
                                                    "#7fbc41"
                                                ],
                                                [
                                                    0.9,
                                                    "#4d9221"
                                                ],
                                                [
                                                    1,
                                                    "#276419"
                                                ]
                                            ],
                                            "sequential": [
                                                [
                                                    0,
                                                    "#0d0887"
                                                ],
                                                [
                                                    0.1111111111111111,
                                                    "#46039f"
                                                ],
                                                [
                                                    0.2222222222222222,
                                                    "#7201a8"
                                                ],
                                                [
                                                    0.3333333333333333,
                                                    "#9c179e"
                                                ],
                                                [
                                                    0.4444444444444444,
                                                    "#bd3786"
                                                ],
                                                [
                                                    0.5555555555555556,
                                                    "#d8576b"
                                                ],
                                                [
                                                    0.6666666666666666,
                                                    "#ed7953"
                                                ],
                                                [
                                                    0.7777777777777778,
                                                    "#fb9f3a"
                                                ],
                                                [
                                                    0.8888888888888888,
                                                    "#fdca26"
                                                ],
                                                [
                                                    1,
                                                    "#f0f921"
                                                ]
                                            ],
                                            "sequentialminus": [
                                                [
                                                    0,
                                                    "#0d0887"
                                                ],
                                                [
                                                    0.1111111111111111,
                                                    "#46039f"
                                                ],
                                                [
                                                    0.2222222222222222,
                                                    "#7201a8"
                                                ],
                                                [
                                                    0.3333333333333333,
                                                    "#9c179e"
                                                ],
                                                [
                                                    0.4444444444444444,
                                                    "#bd3786"
                                                ],
                                                [
                                                    0.5555555555555556,
                                                    "#d8576b"
                                                ],
                                                [
                                                    0.6666666666666666,
                                                    "#ed7953"
                                                ],
                                                [
                                                    0.7777777777777778,
                                                    "#fb9f3a"
                                                ],
                                                [
                                                    0.8888888888888888,
                                                    "#fdca26"
                                                ],
                                                [
                                                    1,
                                                    "#f0f921"
                                                ]
                                            ]
                                        },
                                        "colorway": [
                                            "#636efa",
                                            "#EF553B",
                                            "#00cc96",
                                            "#ab63fa",
                                            "#FFA15A",
                                            "#19d3f3",
                                            "#FF6692",
                                            "#B6E880",
                                            "#FF97FF",
                                            "#FECB52"
                                        ],
                                        "font": {
                                            "color": "black"
                                        },
                                        "geo": {
                                            "bgcolor": "white",
                                            "lakecolor": "white",
                                            "landcolor": "#E5ECF6",
                                            "showlakes": true,
                                            "showland": true,
                                            "subunitcolor": "white"
                                        },
                                        "hoverlabel": {
                                            "align": "left",
                                            "bgcolor": "white",
                                            "font": {
                                                "color": "black"
                                            }
                                        },
                                        "hovermode": "closest",
                                        "legend": {
                                            "font": {
                                                "color": "black"
                                            }
                                        },
                                        "mapbox": {
                                            "style": "light"
                                        },
                                        "paper_bgcolor": "white",
                                        "plot_bgcolor": "white",
                                        "polar": {
                                            "angularaxis": {
                                                "gridcolor": "white",
                                                "linecolor": "white",
                                                "ticks": ""
                                            },
                                            "bgcolor": "#E5ECF6",
                                            "radialaxis": {
                                                "gridcolor": "white",
                                                "linecolor": "white",
                                                "ticks": ""
                                            }
                                        },
                                        "scene": {
                                            "xaxis": {
                                                "backgroundcolor": "#E5ECF6",
                                                "gridcolor": "white",
                                                "gridwidth": 2,
                                                "linecolor": "white",
                                                "showbackground": true,
                                                "ticks": "",
                                                "zerolinecolor": "white"
                                            },
                                            "yaxis": {
                                                "backgroundcolor": "#E5ECF6",
                                                "gridcolor": "white",
                                                "gridwidth": 2,
                                                "linecolor": "white",
                                                "showbackground": true,
                                                "ticks": "",
                                                "zerolinecolor": "white"
                                            },
                                            "zaxis": {
                                                "backgroundcolor": "#E5ECF6",
                                                "gridcolor": "white",
                                                "gridwidth": 2,
                                                "linecolor": "white",
                                                "showbackground": true,
                                                "ticks": "",
                                                "zerolinecolor": "white"
                                            }
                                        },
                                        "shapedefaults": {
                                            "line": {
                                                "color": "#2a3f5f"
                                            }
                                        },
                                        "shapes": [
                                            {
                                                "line": {
                                                    "color": "black"
                                                }
                                            }
                                        ],
                                        "ternary": {
                                            "aaxis": {
                                                "gridcolor": "white",
                                                "linecolor": "white",
                                                "ticks": ""
                                            },
                                            "baxis": {
                                                "gridcolor": "white",
                                                "linecolor": "white",
                                                "ticks": ""
                                            },
                                            "bgcolor": "#E5ECF6",
                                            "caxis": {
                                                "gridcolor": "white",
                                                "linecolor": "white",
                                                "ticks": ""
                                            }
                                        },
                                        "title": {
                                            "font": {
                                                "color": "black"
                                            },
                                            "x": 0.05
                                        },
                                        "xaxis": {
                                            "automargin": true,
                                            "gridcolor": "lightgray",
                                            "linecolor": "black",
                                            "tickfont": {
                                                "color": "black"
                                            },
                                            "ticks": "",
                                            "title": {
                                                "font": {
                                                    "color": "black"
                                                },
                                                "standoff": 15
                                            },
                                            "zerolinecolor": "black",
                                            "zerolinewidth": 2
                                        },
                                        "yaxis": {
                                            "automargin": true,
                                            "gridcolor": "lightgray",
                                            "linecolor": "black",
                                            "tickfont": {
                                                "color": "black"
                                            },
                                            "ticks": "",
                                            "title": {
                                                "font": {
                                                    "color": "black"
                                                },
                                                "standoff": 15
                                            },
                                            "zerolinecolor": "black",
                                            "zerolinewidth": 2
                                        }
                                    }
                                },
                                "width": 1000,
                                "xaxis": {
                                    "tickfont": {
                                        "size": 35
                                    },
                                    "ticktext": [
                                        "1",
                                        "5",
                                        "10",
                                        "15",
                                        "20",
                                        "25",
                                        "30",
                                        "35",
                                        "40",
                                        "45",
                                        "50"
                                    ],
                                    "tickvals": [
                                        1,
                                        5,
                                        10,
                                        15,
                                        20,
                                        25,
                                        30,
                                        35,
                                        40,
                                        45,
                                        50
                                    ],
                                    "title": {
                                        "font": {
                                            "size": 40
                                        },
                                        "text": "Number of Reasoning Times"
                                    }
                                },
                                "yaxis": {
                                    "dtick": 0.15,
                                    "range": [
                                        0,
                                        0.75
                                    ],
                                    "tickfont": {
                                        "size": 35
                                    },
                                    "tickformat": ".0%",
                                    "title": {
                                        "font": {
                                            "size": 40
                                        },
                                        "text": "Accuracy"
                                    }
                                }
                            }
                        },
                        "text/html": [
                            "<div>                            <div id=\"de04cca3-8a05-4475-8689-c937eb8a0fa9\" class=\"plotly-graph-div\" style=\"height:500px; width:1000px;\"></div>            <script type=\"text/javascript\">                require([\"plotly\"], function(Plotly) {                    window.PLOTLYENV=window.PLOTLYENV || {};                                    if (document.getElementById(\"de04cca3-8a05-4475-8689-c937eb8a0fa9\")) {                    Plotly.newPlot(                        \"de04cca3-8a05-4475-8689-c937eb8a0fa9\",                        [{\"line\":{\"color\":\"#7DAEE0\",\"width\":2},\"marker\":{\"size\":10,\"symbol\":\"circle\"},\"mode\":\"lines+markers\",\"name\":\"3B (with verifier)  \",\"x\":[1,5,10,15,20,25,30,35,40,45,50],\"y\":[0.32,0.36,0.34,0.44,0.46,0.52,0.56,0.6,0.68,0.66,0.66],\"type\":\"scatter\"},{\"line\":{\"color\":\"#7DAEE0\",\"dash\":\"dash\",\"width\":2},\"marker\":{\"size\":10,\"symbol\":\"circle\"},\"mode\":\"lines+markers\",\"name\":\"3B\",\"x\":[1,5,10,15,20,25,30,35,40,45,50],\"y\":[0.32,0.36,0.3,0.4,0.3,0.28,0.26,0.24,0.24,0.24,0.24],\"type\":\"scatter\"},{\"line\":{\"color\":\"#EA8379\",\"width\":2},\"marker\":{\"size\":10,\"symbol\":\"square\"},\"mode\":\"lines+markers\",\"name\":\"8B (with verifier)  \",\"x\":[1,5,10,15,20,25,30,35,40,45,50],\"y\":[0.24,0.36,0.43,0.49,0.52,0.55,0.58,0.62,0.66,0.66,0.66],\"type\":\"scatter\"},{\"line\":{\"color\":\"#EA8379\",\"dash\":\"dash\",\"width\":2},\"marker\":{\"size\":10,\"symbol\":\"square\"},\"mode\":\"lines+markers\",\"name\":\"8B\",\"x\":[1,5,10,15,20,25,30,35,40,45,50],\"y\":[0.24,0.26,0.3,0.22,0.22,0.26,0.24,0.28,0.26,0.26,0.26],\"type\":\"scatter\"}],                        {\"template\":{\"data\":{\"histogram2dcontour\":[{\"type\":\"histogram2dcontour\",\"colorbar\":{\"outlinewidth\":0,\"ticks\":\"\"},\"colorscale\":[[0.0,\"#0d0887\"],[0.1111111111111111,\"#46039f\"],[0.2222222222222222,\"#7201a8\"],[0.3333333333333333,\"#9c179e\"],[0.4444444444444444,\"#bd3786\"],[0.5555555555555556,\"#d8576b\"],[0.6666666666666666,\"#ed7953\"],[0.7777777777777778,\"#fb9f3a\"],[0.8888888888888888,\"#fdca26\"],[1.0,\"#f0f921\"]]}],\"choropleth\":[{\"type\":\"choropleth\",\"colorbar\":{\"outlinewidth\":0,\"ticks\":\"\"}}],\"histogram2d\":[{\"type\":\"histogram2d\",\"colorbar\":{\"outlinewidth\":0,\"ticks\":\"\"},\"colorscale\":[[0.0,\"#0d0887\"],[0.1111111111111111,\"#46039f\"],[0.2222222222222222,\"#7201a8\"],[0.3333333333333333,\"#9c179e\"],[0.4444444444444444,\"#bd3786\"],[0.5555555555555556,\"#d8576b\"],[0.6666666666666666,\"#ed7953\"],[0.7777777777777778,\"#fb9f3a\"],[0.8888888888888888,\"#fdca26\"],[1.0,\"#f0f921\"]]}],\"heatmap\":[{\"type\":\"heatmap\",\"colorbar\":{\"outlinewidth\":0,\"ticks\":\"\"},\"colorscale\":[[0.0,\"#0d0887\"],[0.1111111111111111,\"#46039f\"],[0.2222222222222222,\"#7201a8\"],[0.3333333333333333,\"#9c179e\"],[0.4444444444444444,\"#bd3786\"],[0.5555555555555556,\"#d8576b\"],[0.6666666666666666,\"#ed7953\"],[0.7777777777777778,\"#fb9f3a\"],[0.8888888888888888,\"#fdca26\"],[1.0,\"#f0f921\"]]}],\"heatmapgl\":[{\"type\":\"heatmapgl\",\"colorbar\":{\"outlinewidth\":0,\"ticks\":\"\"},\"colorscale\":[[0.0,\"#0d0887\"],[0.1111111111111111,\"#46039f\"],[0.2222222222222222,\"#7201a8\"],[0.3333333333333333,\"#9c179e\"],[0.4444444444444444,\"#bd3786\"],[0.5555555555555556,\"#d8576b\"],[0.6666666666666666,\"#ed7953\"],[0.7777777777777778,\"#fb9f3a\"],[0.8888888888888888,\"#fdca26\"],[1.0,\"#f0f921\"]]}],\"contourcarpet\":[{\"type\":\"contourcarpet\",\"colorbar\":{\"outlinewidth\":0,\"ticks\":\"\"}}],\"contour\":[{\"type\":\"contour\",\"colorbar\":{\"outlinewidth\":0,\"ticks\":\"\"},\"colorscale\":[[0.0,\"#0d0887\"],[0.1111111111111111,\"#46039f\"],[0.2222222222222222,\"#7201a8\"],[0.3333333333333333,\"#9c179e\"],[0.4444444444444444,\"#bd3786\"],[0.5555555555555556,\"#d8576b\"],[0.6666666666666666,\"#ed7953\"],[0.7777777777777778,\"#fb9f3a\"],[0.8888888888888888,\"#fdca26\"],[1.0,\"#f0f921\"]]}],\"surface\":[{\"type\":\"surface\",\"colorbar\":{\"outlinewidth\":0,\"ticks\":\"\"},\"colorscale\":[[0.0,\"#0d0887\"],[0.1111111111111111,\"#46039f\"],[0.2222222222222222,\"#7201a8\"],[0.3333333333333333,\"#9c179e\"],[0.4444444444444444,\"#bd3786\"],[0.5555555555555556,\"#d8576b\"],[0.6666666666666666,\"#ed7953\"],[0.7777777777777778,\"#fb9f3a\"],[0.8888888888888888,\"#fdca26\"],[1.0,\"#f0f921\"]]}],\"mesh3d\":[{\"type\":\"mesh3d\",\"colorbar\":{\"outlinewidth\":0,\"ticks\":\"\"}}],\"scatter\":[{\"fillpattern\":{\"fillmode\":\"overlay\",\"size\":10,\"solidity\":0.2},\"type\":\"scatter\"}],\"parcoords\":[{\"type\":\"parcoords\",\"line\":{\"colorbar\":{\"outlinewidth\":0,\"ticks\":\"\"}}}],\"scatterpolargl\":[{\"type\":\"scatterpolargl\",\"marker\":{\"colorbar\":{\"outlinewidth\":0,\"ticks\":\"\"}}}],\"bar\":[{\"error_x\":{\"color\":\"#2a3f5f\"},\"error_y\":{\"color\":\"#2a3f5f\"},\"marker\":{\"line\":{\"color\":\"#E5ECF6\",\"width\":0.5},\"pattern\":{\"fillmode\":\"overlay\",\"size\":10,\"solidity\":0.2}},\"type\":\"bar\"}],\"scattergeo\":[{\"type\":\"scattergeo\",\"marker\":{\"colorbar\":{\"outlinewidth\":0,\"ticks\":\"\"}}}],\"scatterpolar\":[{\"type\":\"scatterpolar\",\"marker\":{\"colorbar\":{\"outlinewidth\":0,\"ticks\":\"\"}}}],\"histogram\":[{\"marker\":{\"pattern\":{\"fillmode\":\"overlay\",\"size\":10,\"solidity\":0.2}},\"type\":\"histogram\"}],\"scattergl\":[{\"type\":\"scattergl\",\"marker\":{\"colorbar\":{\"outlinewidth\":0,\"ticks\":\"\"}}}],\"scatter3d\":[{\"type\":\"scatter3d\",\"line\":{\"colorbar\":{\"outlinewidth\":0,\"ticks\":\"\"}},\"marker\":{\"colorbar\":{\"outlinewidth\":0,\"ticks\":\"\"}}}],\"scattermapbox\":[{\"type\":\"scattermapbox\",\"marker\":{\"colorbar\":{\"outlinewidth\":0,\"ticks\":\"\"}}}],\"scatterternary\":[{\"type\":\"scatterternary\",\"marker\":{\"colorbar\":{\"outlinewidth\":0,\"ticks\":\"\"}}}],\"scattercarpet\":[{\"type\":\"scattercarpet\",\"marker\":{\"colorbar\":{\"outlinewidth\":0,\"ticks\":\"\"}}}],\"carpet\":[{\"aaxis\":{\"endlinecolor\":\"#2a3f5f\",\"gridcolor\":\"white\",\"linecolor\":\"white\",\"minorgridcolor\":\"white\",\"startlinecolor\":\"#2a3f5f\"},\"baxis\":{\"endlinecolor\":\"#2a3f5f\",\"gridcolor\":\"white\",\"linecolor\":\"white\",\"minorgridcolor\":\"white\",\"startlinecolor\":\"#2a3f5f\"},\"type\":\"carpet\"}],\"table\":[{\"cells\":{\"fill\":{\"color\":\"#EBF0F8\"},\"line\":{\"color\":\"white\"}},\"header\":{\"fill\":{\"color\":\"#C8D4E3\"},\"line\":{\"color\":\"white\"}},\"type\":\"table\"}],\"barpolar\":[{\"marker\":{\"line\":{\"color\":\"#E5ECF6\",\"width\":0.5},\"pattern\":{\"fillmode\":\"overlay\",\"size\":10,\"solidity\":0.2}},\"type\":\"barpolar\"}],\"pie\":[{\"automargin\":true,\"type\":\"pie\"}]},\"layout\":{\"autotypenumbers\":\"strict\",\"colorway\":[\"#636efa\",\"#EF553B\",\"#00cc96\",\"#ab63fa\",\"#FFA15A\",\"#19d3f3\",\"#FF6692\",\"#B6E880\",\"#FF97FF\",\"#FECB52\"],\"font\":{\"color\":\"black\"},\"hovermode\":\"closest\",\"hoverlabel\":{\"align\":\"left\",\"font\":{\"color\":\"black\"},\"bgcolor\":\"white\"},\"paper_bgcolor\":\"white\",\"plot_bgcolor\":\"white\",\"polar\":{\"bgcolor\":\"#E5ECF6\",\"angularaxis\":{\"gridcolor\":\"white\",\"linecolor\":\"white\",\"ticks\":\"\"},\"radialaxis\":{\"gridcolor\":\"white\",\"linecolor\":\"white\",\"ticks\":\"\"}},\"ternary\":{\"bgcolor\":\"#E5ECF6\",\"aaxis\":{\"gridcolor\":\"white\",\"linecolor\":\"white\",\"ticks\":\"\"},\"baxis\":{\"gridcolor\":\"white\",\"linecolor\":\"white\",\"ticks\":\"\"},\"caxis\":{\"gridcolor\":\"white\",\"linecolor\":\"white\",\"ticks\":\"\"}},\"coloraxis\":{\"colorbar\":{\"outlinewidth\":0,\"ticks\":\"\",\"tickfont\":{\"color\":\"black\"},\"title\":{\"font\":{\"color\":\"black\"}}}},\"colorscale\":{\"sequential\":[[0.0,\"#0d0887\"],[0.1111111111111111,\"#46039f\"],[0.2222222222222222,\"#7201a8\"],[0.3333333333333333,\"#9c179e\"],[0.4444444444444444,\"#bd3786\"],[0.5555555555555556,\"#d8576b\"],[0.6666666666666666,\"#ed7953\"],[0.7777777777777778,\"#fb9f3a\"],[0.8888888888888888,\"#fdca26\"],[1.0,\"#f0f921\"]],\"sequentialminus\":[[0.0,\"#0d0887\"],[0.1111111111111111,\"#46039f\"],[0.2222222222222222,\"#7201a8\"],[0.3333333333333333,\"#9c179e\"],[0.4444444444444444,\"#bd3786\"],[0.5555555555555556,\"#d8576b\"],[0.6666666666666666,\"#ed7953\"],[0.7777777777777778,\"#fb9f3a\"],[0.8888888888888888,\"#fdca26\"],[1.0,\"#f0f921\"]],\"diverging\":[[0,\"#8e0152\"],[0.1,\"#c51b7d\"],[0.2,\"#de77ae\"],[0.3,\"#f1b6da\"],[0.4,\"#fde0ef\"],[0.5,\"#f7f7f7\"],[0.6,\"#e6f5d0\"],[0.7,\"#b8e186\"],[0.8,\"#7fbc41\"],[0.9,\"#4d9221\"],[1,\"#276419\"]]},\"xaxis\":{\"gridcolor\":\"lightgray\",\"linecolor\":\"black\",\"ticks\":\"\",\"title\":{\"standoff\":15,\"font\":{\"color\":\"black\"}},\"zerolinecolor\":\"black\",\"automargin\":true,\"zerolinewidth\":2,\"tickfont\":{\"color\":\"black\"}},\"yaxis\":{\"gridcolor\":\"lightgray\",\"linecolor\":\"black\",\"ticks\":\"\",\"title\":{\"standoff\":15,\"font\":{\"color\":\"black\"}},\"zerolinecolor\":\"black\",\"automargin\":true,\"zerolinewidth\":2,\"tickfont\":{\"color\":\"black\"}},\"scene\":{\"xaxis\":{\"backgroundcolor\":\"#E5ECF6\",\"gridcolor\":\"white\",\"linecolor\":\"white\",\"showbackground\":true,\"ticks\":\"\",\"zerolinecolor\":\"white\",\"gridwidth\":2},\"yaxis\":{\"backgroundcolor\":\"#E5ECF6\",\"gridcolor\":\"white\",\"linecolor\":\"white\",\"showbackground\":true,\"ticks\":\"\",\"zerolinecolor\":\"white\",\"gridwidth\":2},\"zaxis\":{\"backgroundcolor\":\"#E5ECF6\",\"gridcolor\":\"white\",\"linecolor\":\"white\",\"showbackground\":true,\"ticks\":\"\",\"zerolinecolor\":\"white\",\"gridwidth\":2}},\"shapedefaults\":{\"line\":{\"color\":\"#2a3f5f\"}},\"annotationdefaults\":{\"arrowcolor\":\"#2a3f5f\",\"arrowhead\":0,\"arrowwidth\":1},\"geo\":{\"bgcolor\":\"white\",\"landcolor\":\"#E5ECF6\",\"subunitcolor\":\"white\",\"showland\":true,\"showlakes\":true,\"lakecolor\":\"white\"},\"title\":{\"x\":0.05,\"font\":{\"color\":\"black\"}},\"mapbox\":{\"style\":\"light\"},\"legend\":{\"font\":{\"color\":\"black\"}},\"annotations\":[{\"font\":{\"color\":\"black\"}}],\"shapes\":[{\"line\":{\"color\":\"black\"}}]}},\"xaxis\":{\"tickfont\":{\"size\":35},\"title\":{\"text\":\"Number of Reasoning Times\",\"font\":{\"size\":40}},\"tickvals\":[1,5,10,15,20,25,30,35,40,45,50],\"ticktext\":[\"1\",\"5\",\"10\",\"15\",\"20\",\"25\",\"30\",\"35\",\"40\",\"45\",\"50\"]},\"yaxis\":{\"tickfont\":{\"size\":35},\"title\":{\"text\":\"Accuracy\",\"font\":{\"size\":40}},\"range\":[0,0.75],\"tickformat\":\".0%\",\"dtick\":0.15},\"legend\":{\"font\":{\"size\":35},\"orientation\":\"h\",\"yanchor\":\"bottom\",\"y\":1.03,\"xanchor\":\"center\",\"x\":0.5,\"itemsizing\":\"constant\",\"itemwidth\":80},\"margin\":{\"l\":10,\"r\":20,\"t\":5,\"b\":5},\"width\":1000,\"height\":500},                        {\"responsive\": true}                    ).then(function(){\n",
                            "                            \n",
                            "var gd = document.getElementById('de04cca3-8a05-4475-8689-c937eb8a0fa9');\n",
                            "var x = new MutationObserver(function (mutations, observer) {{\n",
                            "        var display = window.getComputedStyle(gd).display;\n",
                            "        if (!display || display === 'none') {{\n",
                            "            console.log([gd, 'removed!']);\n",
                            "            Plotly.purge(gd);\n",
                            "            observer.disconnect();\n",
                            "        }}\n",
                            "}});\n",
                            "\n",
                            "// Listen for the removal of the full notebook cells\n",
                            "var notebookContainer = gd.closest('#notebook-container');\n",
                            "if (notebookContainer) {{\n",
                            "    x.observe(notebookContainer, {childList: true});\n",
                            "}}\n",
                            "\n",
                            "// Listen for the clearing of the current output cell\n",
                            "var outputEl = gd.closest('.output');\n",
                            "if (outputEl) {{\n",
                            "    x.observe(outputEl, {childList: true});\n",
                            "}}\n",
                            "\n",
                            "                        })                };                });            </script>        </div>"
                        ]
                    },
                    "metadata": {},
                    "output_type": "display_data"
                }
            ],
            "source": [
                "import plotly.graph_objects as go\n",
                "\n",
                "# 提取数据\n",
                "number_of_thoughts = [1, 5, 10, 15, 20, 25, 30, 35, 40, 45, 50]  # X 轴数据\n",
                "# 提取 Llama-3.2-3B-Instruct-Turbo 的数据\n",
                "llama_voting_acc = [result['Voting Accuracy'] for result in results if 'Llama-3.2' in result['Config']]\n",
                "llama_llm_voting_acc = [result['LLM Voting Acc'] for result in results if 'Llama-3.2' in result['Config']]\n",
                "\n",
                "# 提取 Meta-Llama-3.1-8B-Instruct-Turbo 的数据\n",
                "meta_llama_voting_acc = [result['Voting Accuracy'] for result in results if 'Meta-Llama' in result['Config']]\n",
                "meta_llama_llm_voting_acc = [result['LLM Voting Acc'] for result in results if 'Meta-Llama' in result['Config']]\n",
                "\n",
                "# 创建 Plotly 图表\n",
                "fig = go.Figure()\n",
                "\n",
                "# 添加 Llama-3.2-3B-Instruct-Turbo 的 Voting Accuracy 曲线\n",
                "fig.add_trace(go.Scatter(\n",
                "    x=number_of_thoughts,\n",
                "    y=llama_voting_acc,\n",
                "    mode='lines+markers',\n",
                "    name='3B (with verifier)  ',\n",
                "    line=dict(color='#7DAEE0', width=2),\n",
                "    marker=dict(size=10, symbol='circle')\n",
                "))\n",
                "\n",
                "# 添加 Llama-3.2-3B-Instruct-Turbo 的 LLM Voting Acc 曲线\n",
                "fig.add_trace(go.Scatter(\n",
                "    x=number_of_thoughts,\n",
                "    y=llama_llm_voting_acc,\n",
                "    mode='lines+markers',\n",
                "    name='3B',\n",
                "    line=dict(color='#7DAEE0', width=2, dash='dash'),\n",
                "    marker=dict(size=10, symbol='circle')\n",
                "))\n",
                "\n",
                "# 添加 Meta-Llama-3.1-8B-Instruct-Turbo 的 Voting Accuracy 曲线\n",
                "fig.add_trace(go.Scatter(\n",
                "    x=number_of_thoughts,\n",
                "    y=meta_llama_voting_acc,\n",
                "    mode='lines+markers',\n",
                "    name='8B (with verifier)  ',\n",
                "    line=dict(color='#EA8379', width=2),\n",
                "    marker=dict(size=10, symbol='square')\n",
                "))\n",
                "\n",
                "# 添加 Meta-Llama-3.1-8B-Instruct-Turbo 的 LLM Voting Acc 曲线\n",
                "fig.add_trace(go.Scatter(\n",
                "    x=number_of_thoughts,\n",
                "    y=meta_llama_llm_voting_acc,\n",
                "    mode='lines+markers',\n",
                "    name='8B',\n",
                "    line=dict(color='#EA8379', width=2, dash='dash'),\n",
                "    marker=dict(size=10, symbol='square')\n",
                "))\n",
                "\n",
                "# 更新布局\n",
                "fig.update_layout(\n",
                "    xaxis_title='Number of Reasoning Times',\n",
                "    yaxis_title='Accuracy',\n",
                "    xaxis=dict(tickfont=dict(size=35), title_font=dict(size=40), tickvals=number_of_thoughts, ticktext=[str(x) for x in number_of_thoughts]),\n",
                "    yaxis=dict(tickfont=dict(size=35), title_font=dict(size=40), range=[0, 0.75], tickformat=\".0%\", dtick=0.15),  # 设置 y 轴范围\n",
                "    # legend=dict(x=0.02, y=0.98),  # 图例位置\n",
                "    legend=dict(\n",
                "        font=dict(size=35),\n",
                "        orientation=\"h\",  # Make legend horizontal\n",
                "        yanchor=\"bottom\",\n",
                "        y=1.03,  # Position above the plot\n",
                "        xanchor=\"center\",  # Center horizontally\n",
                "        x=0.5,\n",
                "        itemsizing='constant',\n",
                "        itemwidth=80  # Adjust spacing between legend items\n",
                "    ),\n",
                "    margin=dict(l=10, r=20, t=5, b=5),  # Remove margins\n",
                "    width=1000,  # 图表宽度\n",
                "    height=500  # 图表高度\n",
                ")\n",
                "# 模板配置 - 强制所有颜色为黑色\n",
                "template = dict(\n",
                "    layout=dict(\n",
                "        font_color=\"black\",\n",
                "        paper_bgcolor=\"white\",\n",
                "        plot_bgcolor=\"white\",\n",
                "        title_font_color=\"black\",\n",
                "        legend_font_color=\"black\",\n",
                "        \n",
                "        xaxis=dict(\n",
                "            title_font_color=\"black\",\n",
                "            tickfont_color=\"black\",\n",
                "            linecolor=\"black\",\n",
                "            gridcolor=\"lightgray\",\n",
                "            zerolinecolor=\"black\",\n",
                "        ),\n",
                "        \n",
                "        yaxis=dict(\n",
                "            title_font_color=\"black\", \n",
                "            tickfont_color=\"black\",\n",
                "            linecolor=\"black\",\n",
                "            gridcolor=\"lightgray\",\n",
                "            zerolinecolor=\"black\",\n",
                "        ),\n",
                "        \n",
                "        hoverlabel=dict(\n",
                "            font_color=\"black\",\n",
                "            bgcolor=\"white\"\n",
                "        ),\n",
                "        \n",
                "        annotations=[dict(font_color=\"black\")],\n",
                "        shapes=[dict(line_color=\"black\")],\n",
                "        \n",
                "        coloraxis=dict(\n",
                "            colorbar_tickfont_color=\"black\",\n",
                "            colorbar_title_font_color=\"black\"\n",
                "        ),\n",
                "    )\n",
                ")\n",
                "\n",
                "# 应用配置\n",
                "fig.update_layout(template=template)\n",
                "\n",
                "\n",
                "\n",
                "# 显示图表\n",
                "fig.show()\n",
                "import plotly.io as pio\n",
                "pio.write_image(fig, f'figures/abls/inference_scaling.pdf', scale=6)"
            ]
        },
        {
            "cell_type": "code",
            "execution_count": null,
            "metadata": {},
            "outputs": [],
            "source": [
                "import plotly.graph_objects as go\n",
                "\n",
                "# 数据\n",
                "number_of_thoughts = [1, 5, 10, 15, 20, 25]\n",
                "\n",
                "# Llama-3.2-3B-Instruct-Turbo 的 Voting Accuracy\n",
                "llama_voting_acc = [0.12, 0.22, 0.34, 0.44, 0.46, 0.52]\n",
                "\n",
                "# Meta-Llama-3.1-8B-Instruct-Turbo 的 Voting Accuracy\n",
                "meta_llama_voting_acc = [0.13, 0.36, 0.43, 0.49, 0.52, 0.55]\n",
                "\n",
                "# 创建 Plotly 图表\n",
                "fig = go.Figure()\n",
                "\n",
                "# 添加 Llama-3.2-3B-Instruct-Turbo 的曲线\n",
                "fig.add_trace(go.Scatter(\n",
                "    x=number_of_thoughts,\n",
                "    y=llama_voting_acc,\n",
                "    mode='lines+markers',\n",
                "    name='Llama-3.2-3B-Instruct-Turbo',\n",
                "    line=dict(color='blue', width=2),\n",
                "    marker=dict(size=10, symbol='circle')\n",
                "))\n",
                "\n",
                "# 添加 Meta-Llama-3.1-8B-Instruct-Turbo 的曲线\n",
                "fig.add_trace(go.Scatter(\n",
                "    x=number_of_thoughts,\n",
                "    y=meta_llama_voting_acc,\n",
                "    mode='lines+markers',\n",
                "    name='Meta-Llama-3.1-8B-Instruct-Turbo',\n",
                "    line=dict(color='red', width=2),\n",
                "    marker=dict(size=10, symbol='square')\n",
                "))\n",
                "\n",
                "# 更新布局\n",
                "fig.update_layout(\n",
                "    title='Voting Accuracy vs Number of Thoughts',\n",
                "    xaxis_title='Number of Thoughts',\n",
                "    yaxis_title='Voting Accuracy',\n",
                "    xaxis=dict(tickvals=number_of_thoughts, ticktext=[str(x) for x in number_of_thoughts]),\n",
                "    yaxis=dict(range=[0, 0.6]),  # 设置 y 轴范围\n",
                "    legend=dict(x=0.02, y=0.98),  # 图例位置\n",
                "    template='plotly_white',  # 使用白色背景模板\n",
                "    width=800,  # 图表宽度\n",
                "    height=500  # 图表高度\n",
                ")\n",
                "\n",
                "# 显示图表\n",
                "fig.show()"
            ]
        },
        {
            "cell_type": "markdown",
            "metadata": {},
            "source": [
                "## Analysis"
            ]
        },
        {
            "cell_type": "code",
            "execution_count": null,
            "metadata": {},
            "outputs": [],
            "source": [
                "import plotly.subplots as sp\n",
                "import plotly.graph_objects as go\n",
                "import plotly.express as px\n",
                "import numpy as np\n",
                "from collections import Counter\n",
                "def plot_prediction_distribution(records, dataset_name, subplot_titles=None, height=800, width=1200):\n",
                "    \"\"\"\n",
                "    Plot prediction distribution for a specific dataset across different models and methods.\n",
                "    \n",
                "    Parameters:\n",
                "    -----------\n",
                "    records : dict\n",
                "        Nested dictionary with structure:\n",
                "        {model: {dataset: {method: {'predictions': [...]}}}}\n",
                "    dataset_name : str\n",
                "        Name of the dataset to plot\n",
                "    subplot_titles : list, optional\n",
                "        List of titles for subplots. If None, uses model names\n",
                "    height : int, optional\n",
                "        Height of the plot in pixels\n",
                "    width : int, optional\n",
                "        Width of the plot in pixels\n",
                "        \n",
                "    Returns:\n",
                "    --------\n",
                "    plotly.graph_objects.Figure\n",
                "    \"\"\"\n",
                "    \n",
                "    # Create 2x2 subplots\n",
                "    if subplot_titles is None:\n",
                "        subplot_titles = sorted(records.keys())\n",
                "        \n",
                "    fig = sp.make_subplots(\n",
                "        rows=2, cols=2,\n",
                "        subplot_titles=subplot_titles\n",
                "    )\n",
                "\n",
                "    positions = [(1,1), (1,2), (2,1), (2,2)]\n",
                "    \n",
                "    # List of all possible methods\n",
                "    methods = ['cot', 'zero_shot_cot', 'l2m', 'tot', 'mcts']\n",
                "    \n",
                "    # Get plotly express qualitative color sequence\n",
                "    colors = px.colors.qualitative.Set1\n",
                "\n",
                "    for model, pos in zip(sorted(records.keys()), positions):\n",
                "        if dataset_name in records[model]:\n",
                "            for method_idx, method in enumerate(methods):\n",
                "                if method in records[model][dataset_name]:\n",
                "                    method_preds = records[model][dataset_name][method]['predictions']\n",
                "                    \n",
                "                    print(f'==> {model}-{dataset_name}-{method}')\n",
                "                    print(Counter(method_preds))\n",
                "                    if method_preds:\n",
                "                        hist = np.histogram(method_preds, bins=[0, 0.5, 1])[0]\n",
                "                        percentages = (hist / len(method_preds)) * 100\n",
                "                        \n",
                "                        fig.add_trace(\n",
                "                            go.Bar(\n",
                "                                x=['0', '1'],\n",
                "                                y=percentages,\n",
                "                                name=method,\n",
                "                                text=[f'{p:.1f}%' for p in percentages],\n",
                "                                textposition='auto',\n",
                "                                marker_color=colors[method_idx],\n",
                "                                showlegend=(pos == (1,1))  # Only show legend for first subplot\n",
                "                            ),\n",
                "                            row=pos[0], col=pos[1]\n",
                "                        )\n",
                "\n",
                "    # Update layout\n",
                "    fig.update_layout(\n",
                "        height=height,\n",
                "        width=width,\n",
                "        barmode='group',\n",
                "        title_text=f\"Distribution of Predictions by Model and Method for {dataset_name}\",\n",
                "        template='simple_white',\n",
                "        legend=dict(\n",
                "            yanchor=\"top\",\n",
                "            y=0.99,\n",
                "            xanchor=\"left\",\n",
                "            x=1.0\n",
                "        )\n",
                "    )\n",
                "\n",
                "    # Update axes labels and ranges\n",
                "    for i in range(1,3):\n",
                "        for j in range(1,3):\n",
                "            fig.update_xaxes(title_text=\"Prediction\", row=i, col=j)\n",
                "            fig.update_yaxes(title_text=\"Percentage (%)\", row=i, col=j, range=[0, 100])\n",
                "\n",
                "    return fig\n",
                "\n",
                "# Example usage:\n",
                "fig = plot_prediction_distribution(records, dataset_name='mmlu')\n",
                "fig.show()\n",
                "\n",
                "# Or with custom titles:\n",
                "# custom_titles = ['Llama-3.2-1B', 'Llama-3.2-3B', 'Llama-3.1-8B', 'Llama-3.1-70B']\n",
                "# fig = plot_prediction_distribution(records, dataset_name='gsm8k', subplot_titles=custom_titles)\n",
                "# fig.show()"
            ]
        },
        {
            "cell_type": "code",
            "execution_count": null,
            "metadata": {},
            "outputs": [],
            "source": [
                "def create_markdown_table(records):\n",
                "    # 创建表头\n",
                "    markdown = \"# Performance Results\\n\\n\"\n",
                "    \n",
                "    # 创建主表格\n",
                "    markdown += \"| Model | Dataset | Method | LLM Voting Acc | LLM Avg Acc | Post Voting Acc | Post Verify Acc |\\n\"\n",
                "    markdown += \"|-------|---------|---------|---------------|-------------|----------------|----------------|\\n\"\n",
                "    \n",
                "    # 添加数据行\n",
                "    for model in sorted(records.keys()):\n",
                "        for dataset in sorted(records[model].keys()):\n",
                "            for method in sorted(records[model][dataset].keys()):\n",
                "                results = records[model][dataset][method]\n",
                "                markdown += f\"| {model} | {dataset} | {method} | \"\n",
                "                markdown += f\"{results['llm voting_acc']:.3f} | \"\n",
                "                markdown += f\"{results['llm avg_acc']:.3f} | \"\n",
                "                markdown += f\"{results['post voting_acc']:.3f} | \"\n",
                "                markdown += f\"{results['post verify_acc']:.3f} |\\n\"\n",
                "    \n",
                "    # 添加平均性能\n",
                "    markdown += \"\\n## Average Performance\\n\\n\"\n",
                "    avg_performance = calculate_average_performance(records)\n",
                "    markdown += \"| Metric | Average Value |\\n\"\n",
                "    markdown += \"|--------|---------------|\\n\"\n",
                "    for metric, value in avg_performance.items():\n",
                "        markdown += f\"| {metric} | {value:.3f} |\\n\"\n",
                "    \n",
                "    return markdown\n",
                "\n",
                "def calculate_average_performance(records):\n",
                "    metrics = {\n",
                "        'llm voting_acc': [],\n",
                "        'llm avg_acc': [],\n",
                "        'post voting_acc': [],\n",
                "        'post verify_acc': []\n",
                "    }\n",
                "    \n",
                "    for model in records:\n",
                "        for dataset in records[model]:\n",
                "            for method in records[model][dataset]:\n",
                "                results = records[model][dataset][method]\n",
                "                for metric in metrics:\n",
                "                    metrics[metric].append(results[metric])\n",
                "    \n",
                "    return {k: np.mean(v) for k, v in metrics.items()}\n",
                "\n",
                "# 使用方法：\n",
                "markdown_table = create_markdown_table(records)\n",
                "print(markdown_table)"
            ]
        },
        {
            "cell_type": "code",
            "execution_count": null,
            "metadata": {},
            "outputs": [],
            "source": [
                "import pandas as pd\n",
                "\n",
                "# Read the markdown table\n",
                "# Skip the first 2 rows (header and separator)\n",
                "df = pd.read_table('randomForest_results.md', sep='|', skiprows=1)\n",
                "\n",
                "# Clean up the DataFrame\n",
                "# Remove empty columns (created by leading/trailing |)\n",
                "df = df.iloc[:, 1:-1]\n",
                "# Set column names\n",
                "df.columns = ['Model', 'Dataset', 'Method', 'LLM Voting Acc', 'LLM Avg Acc', 'Post Voting Acc', 'Post Verify Acc']\n",
                "# Strip whitespace from all string columns\n",
                "df = df.apply(lambda x: x.str.strip() if x.dtype == \"object\" else x)\n",
                "\n",
                "dataset_order = ['aqua', 'mmlu', 'strategyqa', 'commonsenseqa']\n",
                "\n",
                "# Convert accuracy columns to float\n",
                "accuracy_cols = ['LLM Voting Acc', 'LLM Avg Acc', 'Post Voting Acc', 'Post Verify Acc']\n",
                "for col in accuracy_cols:\n",
                "    df[col] = pd.to_numeric(df[col])\n",
                "\n",
                "# Function to filter data based on dataset and method\n",
                "def filter_results(data, datasets=None, methods=None):\n",
                "    \"\"\"\n",
                "    Filter results based on dataset and/or method\n",
                "    \n",
                "    Args:\n",
                "        data: pandas DataFrame containing the results\n",
                "        datasets: str or list of str, datasets to filter\n",
                "        methods: str or list of str, methods to filter\n",
                "    \n",
                "    Returns:\n",
                "        Filtered DataFrame\n",
                "    \"\"\"\n",
                "    filtered_df = data.copy()\n",
                "    \n",
                "    if datasets:\n",
                "        if isinstance(datasets, str):\n",
                "            datasets = [datasets]\n",
                "        filtered_df = filtered_df[filtered_df['Dataset'].isin(datasets)]\n",
                "    \n",
                "    if methods:\n",
                "        if isinstance(methods, str):\n",
                "            methods = [methods]\n",
                "        filtered_df = filtered_df[filtered_df['Method'].isin(methods)]\n",
                "    \n",
                "    return filtered_df\n",
                "\n",
                "# Example usage:\n",
                "# Filter for specific dataset\n",
                "# aqua_results = filter_results(df, datasets='aqua')\n",
                "# print(\"\\nResults for AQUA dataset:\")\n",
                "# print(aqua_results)\n",
                "\n",
                "# Get the accuracy columns\n",
                "# acc_columns = ['LLM Voting Acc', 'LLM Avg Acc', 'Post Voting Acc', 'Post Verify Acc']\n",
                "\n",
                "# # Calculate means\n",
                "# means = df[acc_columns].mean()\n",
                "\n",
                "# print(\"Average scores:\")\n",
                "# for col, mean in means.items():\n",
                "#     print(f\"{col}: {mean:.3f}\")\n",
                "\n",
                "\n",
                "# Filter for specific method\n",
                "cot_results = filter_results(df, methods='mcts', datasets='commonsenseqa')\n",
                "cot_results\n",
                "\n",
                "# Filter for multiple datasets and methods\n",
                "# specific_results = filter_results(df, \n",
                "#                                 datasets=['aqua', 'mmlu'],\n",
                "#                                 methods=['cot', 'zero_shot_cot'])\n",
                "# print(\"\\nResults for AQUA and MMLU datasets with CoT and Zero-shot CoT methods:\")\n",
                "# print(specific_results)"
            ]
        },
        {
            "cell_type": "markdown",
            "metadata": {},
            "source": [
                "## Main Table"
            ]
        },
        {
            "cell_type": "code",
            "execution_count": null,
            "metadata": {},
            "outputs": [],
            "source": [
                "# Data structure with all values\n",
                "data = {\n",
                "    \"CoT\": [\n",
                "        [[12.0, 20.0, 50.0, 20.0], [16.0, 20.0, 52.0, 26.0]],\n",
                "        [[60.0, 40.0, 30.0, 56.0], [68.0, 46.0, 34.0, 56.0]],\n",
                "        [[74.0, 66.0, 30.0, 68.0], [76.0, 66.0, 43.0, 68.0]],\n",
                "        [[94.0, 86.0, 40.0, 68.0], [96.0, 86.0, 42.0, 68.0]]\n",
                "    ],\n",
                "    \"LeastToMost\": [\n",
                "        [[18.0, 22.0, 32.0, 16.0], [22.0, 22.0, 32.0, 22.0]],\n",
                "        [[34.0, 14.0, 36.0, 32.0], [38.0, 16.0, 36.0, 34.0]],\n",
                "        [[76.0, 66.0, 24.0, 66.0], [78.0, 66.0, 38.0, 66.0]],\n",
                "        [[96.0, 90.0, 32.0, 70.0], [96.0, 90.0, 32.0, 70.0]]\n",
                "    ],\n",
                "    \"ToT\": [\n",
                "        [[34.0, 30.0, 50.0, 26.0], [34.0, 32.0, 58.0, 26.0]],\n",
                "        [[38.0, 32.0, 14.0, 47.0], [38.0, 36.6, 14.0, 51.0]],\n",
                "        [[64.0, 62.0, 12.0, 64.0], [66.0, 68.0, 14.0, 64.0]],\n",
                "        [[98.0, 88.0, 42.0, 66.0], [98.0, 90.0, 44.0, 66.0]]\n",
                "    ],\n",
                "    \"MCTS\": [\n",
                "        [[18.0, 22.0, 46.0, 30.0], [24.0, 22.0, 50.0, 30.0]],\n",
                "        [[44.0, 28.0, 14.0, 54.0], [44.0, 30.0, 18.0, 54.0]],\n",
                "        [[72.0, 60.0, 14.0, 56.0], [72.0, 60.0, 16.0, 56.0]],\n",
                "        [[96.0, 84.0, 40.0, 68.0], [96.0, 84.0, 44.0, 68.0]]\n",
                "    ]\n",
                "}\n",
                "\n",
                "def calculate_improvements(section_data):\n",
                "    improvements = []\n",
                "    for pair in section_data:\n",
                "        base, verifier = pair\n",
                "        # Calculate differences for each metric\n",
                "        diffs = [v - b for b, v in zip(base, verifier)]\n",
                "        improvements.extend(diffs)\n",
                "    return improvements\n",
                "\n",
                "# Calculate improvements for each section\n",
                "all_improvements = []\n",
                "for section, section_data in data.items():\n",
                "    improvements = calculate_improvements(section_data)\n",
                "    section_avg = sum(improvements) / len(improvements)\n",
                "    print(f\"{section} average improvement: {section_avg:.2f}%\")\n",
                "    all_improvements.extend(improvements)\n",
                "\n",
                "# Calculate overall average improvement\n",
                "overall_avg = sum(all_improvements) / len(all_improvements)\n",
                "print(f\"\\nOverall average improvement: {overall_avg:.2f}%\")"
            ]
        },
        {
            "cell_type": "code",
            "execution_count": null,
            "metadata": {},
            "outputs": [],
            "source": [
                "data = {\n",
                "    \"CoT\": [\n",
                "        [[12.0, 20.0, 50.0, 20.0], [16.0, 20.0, 52.0, 26.0]],\n",
                "        [[60.0, 40.0, 30.0, 56.0], [68.0, 46.0, 34.0, 56.0]],\n",
                "        [[74.0, 66.0, 30.0, 68.0], [76.0, 66.0, 43.0, 68.0]],\n",
                "        [[94.0, 86.0, 40.0, 68.0], [96.0, 86.0, 42.0, 68.0]]\n",
                "    ],\n",
                "    \"LeastToMost\": [\n",
                "        [[18.0, 22.0, 32.0, 16.0], [22.0, 22.0, 32.0, 22.0]],\n",
                "        [[34.0, 14.0, 36.0, 32.0], [38.0, 16.0, 36.0, 34.0]],\n",
                "        [[76.0, 66.0, 24.0, 66.0], [78.0, 66.0, 38.0, 66.0]],\n",
                "        [[96.0, 90.0, 32.0, 70.0], [96.0, 90.0, 32.0, 70.0]]\n",
                "    ],\n",
                "    \"ToT\": [\n",
                "        [[34.0, 30.0, 50.0, 26.0], [34.0, 32.0, 58.0, 26.0]],\n",
                "        [[38.0, 32.0, 14.0, 47.0], [38.0, 36.6, 14.0, 51.0]],\n",
                "        [[64.0, 62.0, 12.0, 64.0], [66.0, 68.0, 14.0, 64.0]],\n",
                "        [[98.0, 88.0, 42.0, 66.0], [98.0, 90.0, 44.0, 66.0]]\n",
                "    ],\n",
                "    \"MCTS\": [\n",
                "        [[18.0, 22.0, 46.0, 30.0], [24.0, 22.0, 50.0, 30.0]],\n",
                "        [[44.0, 28.0, 14.0, 54.0], [44.0, 30.0, 18.0, 54.0]],\n",
                "        [[72.0, 60.0, 14.0, 56.0], [72.0, 60.0, 16.0, 56.0]],\n",
                "        [[96.0, 84.0, 40.0, 68.0], [96.0, 84.0, 44.0, 68.0]]\n",
                "    ]\n",
                "}\n",
                "\n",
                "import plotly.graph_objects as go\n",
                "import plotly.express as px\n",
                "\n",
                "def create_performance_plot(data, methods, models):\n",
                "    fig = go.Figure()\n",
                "    \n",
                "    # Use a nice color palette\n",
                "    colors = px.colors.sequential.Teal[2:]\n",
                "\n",
                "    \n",
                "    # Calculate bar positions\n",
                "    total_bars = len(models) * 2\n",
                "    bar_width = 1 / (total_bars + 1)\n",
                "    \n",
                "    # For each model size\n",
                "    for model_idx, model in enumerate(models):\n",
                "        # Calculate offsets for original and verifier bars\n",
                "        orig_offset = -0.5 + bar_width * (model_idx * 2 + 0.5)\n",
                "        ver_offset = -0.5 + bar_width * (model_idx * 2 + 1.5)\n",
                "        \n",
                "        # Get data for this model size across all methods\n",
                "        original_data = []\n",
                "        verifier_data = []\n",
                "        for method in methods:\n",
                "            original_data.append(data[method][model_idx][0][0])\n",
                "            verifier_data.append(data[method][model_idx][1][0])\n",
                "        \n",
                "        # Original performance\n",
                "        fig.add_trace(go.Bar(\n",
                "            name=model,\n",
                "            x=methods,\n",
                "            y=original_data,\n",
                "            marker_color=colors[model_idx],\n",
                "            opacity=0.7,\n",
                "            width=bar_width,\n",
                "            offset=orig_offset,\n",
                "            showlegend=True,\n",
                "            text=[f\"{x:.0f}%\" for x in original_data],  # Add percentage labels\n",
                "            textposition='outside',\n",
                "            textfont=dict(size=16)\n",
                "        ))\n",
                "        \n",
                "        # Verifier performance\n",
                "        fig.add_trace(go.Bar(\n",
                "            name=f\"{model} Verifier\",\n",
                "            x=methods,\n",
                "            y=verifier_data,\n",
                "            marker=dict(\n",
                "                pattern=dict(\n",
                "                    shape='/',\n",
                "                    solidity=0.7,\n",
                "                    size=10,\n",
                "                    fgcolor='white',\n",
                "                    bgcolor=colors[model_idx],\n",
                "                ),\n",
                "                color=colors[model_idx],\n",
                "            ),\n",
                "            width=bar_width,\n",
                "            offset=ver_offset,\n",
                "            showlegend=False,\n",
                "            text=[f\"{x:.0f}%\" for x in verifier_data],  # Add percentage labels\n",
                "            textposition='outside',\n",
                "            textfont=dict(size=16)\n",
                "        ))\n",
                "    \n",
                "    # Add legend items for LLM and Verifier\n",
                "    fig.add_trace(go.Bar(\n",
                "        name=\"LLM\",\n",
                "        x=[None],\n",
                "        y=[None],\n",
                "        marker_color='black',\n",
                "        showlegend=True,\n",
                "        visible='legendonly'\n",
                "    ))\n",
                "    \n",
                "    fig.add_trace(go.Bar(\n",
                "        name=\"Verifier\",\n",
                "        x=[None],\n",
                "        y=[None],\n",
                "        marker=dict(\n",
                "            pattern=dict(\n",
                "                shape='/',\n",
                "                solidity=0.7,\n",
                "                size=10,\n",
                "                fgcolor='white',\n",
                "                bgcolor='black',\n",
                "            ),\n",
                "            color='black',\n",
                "        ),\n",
                "        showlegend=True,\n",
                "        visible='legendonly'\n",
                "    ))\n",
                "\n",
                "    # Update layout\n",
                "    fig.update_layout(\n",
                "        width=1000,\n",
                "        height=400,\n",
                "        template='plotly_white',\n",
                "        legend=dict(\n",
                "            orientation=\"h\",\n",
                "            yanchor=\"bottom\",\n",
                "            y=1.02,\n",
                "            font=dict(\n",
                "                color='black',\n",
                "                size=25,\n",
                "            ),\n",
                "            xanchor=\"right\",\n",
                "            x=1\n",
                "        ),\n",
                "        margin=dict(l=5, r=5, t=35, b=5),  # Remove margins\n",
                "        barmode='overlay',\n",
                "        yaxis=dict(\n",
                "            tickformat='%',  # Format y-axis ticks as percentages\n",
                "            ticktext=[f'{x}%' for x in range(0, 101, 20)],  # Custom tick labels\n",
                "            tickvals=[x for x in range(0, 101, 20)],  # Custom tick positions\n",
                "        )\n",
                "    )\n",
                "    \n",
                "    # Update axes\n",
                "    fig.update_yaxes(\n",
                "        range=[0, 120],  # Set range from 0% to 100%\n",
                "        zeroline=True,\n",
                "        zerolinewidth=1,\n",
                "        tickfont=dict(size=25),\n",
                "        zerolinecolor='black',\n",
                "        gridcolor='lightgray',\n",
                "        dtick=40,  # Show ticks every 20%\n",
                "    )\n",
                "    \n",
                "    fig.update_xaxes(\n",
                "        tickfont=dict(size=25),\n",
                "        gridcolor='lightgray'\n",
                "    )\n",
                "\n",
                "    return fig\n",
                "\n",
                "# Create and show the plot\n",
                "methods = [\"CoT\", \"LeastToMost\", \"ToT\", \"MCTS\"]\n",
                "models = [\"1B\", \"3B\", \"8B\", \"70B\"]\n",
                "\n",
                "fig = create_performance_plot(data, methods, models)\n",
                "fig.show()\n",
                "fig.write_image(\"figures/performance_plot.pdf\", scale=6)"
            ]
        },
        {
            "cell_type": "code",
            "execution_count": 17,
            "metadata": {},
            "outputs": [],
            "source": [
                "import plotly.graph_objects as go\n",
                "import plotly.express as px\n",
                "import numpy as np\n",
                "\n",
                "def calculate_averages(data):\n",
                "    avg_data = {}\n",
                "    for method in data:\n",
                "        avg_data[method] = []\n",
                "        for model_idx in range(len(data[method])):\n",
                "            # Calculate average for original and verifier\n",
                "            orig_avg = np.mean(data[method][model_idx][0])\n",
                "            ver_avg = np.mean(data[method][model_idx][1])\n",
                "            avg_data[method].append([[orig_avg], [ver_avg]])\n",
                "    return avg_data\n",
                "\n",
                "def create_performance_plot(data, methods, models, dataset_idx=None):\n",
                "    fig = go.Figure()\n",
                "    colors = ['#AAD09D', '#AFC7E8', '#FF9896', '#D2BCDE'] # px.colors.sequential.Teal[2:]\n",
                "    \n",
                "    # Calculate bar positions\n",
                "    total_bars = len(models) * 2\n",
                "    bar_width = 1 / (total_bars + 1) # + 0.005\n",
                "    \n",
                "    for model_idx, model in enumerate(models):\n",
                "        orig_offset = -0.5 + bar_width * (model_idx * 2 + 0.5)\n",
                "        ver_offset = -0.5 + bar_width * (model_idx * 2 + 1.5)\n",
                "        \n",
                "        original_data = []\n",
                "        verifier_data = []\n",
                "        for method in methods:\n",
                "            if dataset_idx is None:\n",
                "                # Use average data\n",
                "                original_data.append(data[method][model_idx][0][0])\n",
                "                verifier_data.append(data[method][model_idx][1][0])\n",
                "                MAX = 80\n",
                "            else:\n",
                "                # Use specific dataset data\n",
                "                original_data.append(data[method][model_idx][0][dataset_idx])\n",
                "                verifier_data.append(data[method][model_idx][1][dataset_idx])\n",
                "                LIST_MAX = [105, 98, 68, 75]\n",
                "                MAX = LIST_MAX[dataset_idx]\n",
                "\n",
                "        # Original performance\n",
                "        fig.add_trace(go.Bar(\n",
                "            name=model,\n",
                "            x=methods,\n",
                "            y=original_data,\n",
                "            marker_color=colors[model_idx],\n",
                "            opacity=0.7,\n",
                "            width=bar_width,\n",
                "            offset=orig_offset,\n",
                "            showlegend=True,\n",
                "            text=[f\"{x:.0f}%\" for x in original_data],\n",
                "            textposition='outside',\n",
                "            textfont=dict(size=16)\n",
                "        ))\n",
                "        \n",
                "        # Verifier performance\n",
                "        fig.add_trace(go.Bar(\n",
                "            name=f\"{model} Verifier\",\n",
                "            x=methods,\n",
                "            y=verifier_data,\n",
                "            marker=dict(\n",
                "                pattern=dict(\n",
                "                    shape='/',\n",
                "                    solidity=0.7,\n",
                "                    size=10,\n",
                "                    fgcolor='white',\n",
                "                    bgcolor=colors[model_idx],\n",
                "                ),\n",
                "                color=colors[model_idx],\n",
                "            ),\n",
                "            width=bar_width,\n",
                "            offset=ver_offset,\n",
                "            showlegend=False,\n",
                "            text=[f\"{x:.0f}%\" for x in verifier_data],\n",
                "            textposition='outside',\n",
                "            textfont=dict(size=14)\n",
                "        ))\n",
                "\n",
                "    # Legend items for LLM and Verifier\n",
                "    fig.add_trace(go.Bar(\n",
                "        name=\"Unweighted Voting\",\n",
                "        x=[None],\n",
                "        y=[None],\n",
                "        marker_color='black',\n",
                "        showlegend=True,\n",
                "        marker=dict(\n",
                "                pattern=dict(\n",
                "                    size=15,\n",
                "                ),\n",
                "            ),\n",
                "        # visible='legendonly'\n",
                "    ))\n",
                "    \n",
                "    fig.add_trace(go.Bar(\n",
                "        name=\"Verifier Voting\",\n",
                "        x=[None],\n",
                "        y=[None],\n",
                "        marker=dict(\n",
                "            pattern=dict(\n",
                "                shape='/',\n",
                "                solidity=0.7,\n",
                "                size=15,\n",
                "                fgcolor='white',\n",
                "                bgcolor='black',\n",
                "            ),\n",
                "            color='black',\n",
                "        ),\n",
                "        showlegend=True,\n",
                "        # visible='legendonly'\n",
                "    ))\n",
                "\n",
                "    fig.update_layout(\n",
                "        # title=dict(\n",
                "        #     text=title,\n",
                "        #     font=dict(size=30),\n",
                "        #     x=0.5,\n",
                "        #     y=0.95\n",
                "        # ),\n",
                "        width=1200,\n",
                "        height=340,\n",
                "        # template='plotly_white',\n",
                "        legend=dict(\n",
                "            orientation=\"h\",\n",
                "            yanchor=\"bottom\",\n",
                "            y=1.05,\n",
                "            font=dict(\n",
                "                color='black',\n",
                "                size=20,\n",
                "            ),\n",
                "            xanchor=\"right\",\n",
                "            x=1\n",
                "        ),\n",
                "        margin=dict(l=5, r=5, t=5, b=5),\n",
                "        barmode='overlay',\n",
                "        yaxis=dict(\n",
                "            title='Accuracy',\n",
                "            tickformat='%',\n",
                "            ticktext=[f'{x}%' for x in range(0, 101, 20)],\n",
                "            tickvals=[x for x in range(0, 101, 20)],\n",
                "            title_font=dict(size=23),\n",
                "            tickfont=dict(size=20)\n",
                "        ),\n",
                "        xaxis=dict(\n",
                "            title='Method',\n",
                "            title_font=dict(size=23),\n",
                "            tickfont=dict(size=20)\n",
                "        ),\n",
                "    )\n",
                "\n",
                "    # 模板配置 - 强制所有颜色为黑色\n",
                "    template = dict(\n",
                "        layout=dict(\n",
                "            font_color=\"black\",\n",
                "            paper_bgcolor=\"white\",\n",
                "            plot_bgcolor=\"white\",\n",
                "            title_font_color=\"black\",\n",
                "            legend_font_color=\"black\",\n",
                "            \n",
                "            xaxis=dict(\n",
                "                title_font_color=\"black\",\n",
                "                tickfont_color=\"black\",\n",
                "                linecolor=\"black\",\n",
                "                gridcolor=\"black\",\n",
                "                zerolinecolor=\"black\",\n",
                "            ),\n",
                "            \n",
                "            yaxis=dict(\n",
                "                title_font_color=\"black\", \n",
                "                tickfont_color=\"black\",\n",
                "                linecolor=\"black\",\n",
                "                gridcolor=\"black\",\n",
                "                zerolinecolor=\"black\",\n",
                "            ),\n",
                "            \n",
                "            hoverlabel=dict(\n",
                "                font_color=\"black\",\n",
                "                bgcolor=\"white\"\n",
                "            ),\n",
                "            \n",
                "            annotations=[dict(font_color=\"black\")],\n",
                "            shapes=[dict(line_color=\"black\")],\n",
                "            \n",
                "            coloraxis=dict(\n",
                "                colorbar_tickfont_color=\"black\",\n",
                "                colorbar_title_font_color=\"black\"\n",
                "            ),\n",
                "        )\n",
                "    )\n",
                "\n",
                "    fig.update_yaxes(\n",
                "        range=[0, MAX],\n",
                "        zeroline=True,\n",
                "        zerolinewidth=1,\n",
                "        zerolinecolor='black',\n",
                "        gridcolor='lightgray',\n",
                "        dtick=40,\n",
                "    )\n",
                "    \n",
                "    fig.update_xaxes(\n",
                "        gridcolor='lightgray',\n",
                "        title_standoff=0,\n",
                "    )\n",
                "\n",
                "    # 应用配置\n",
                "    fig.update_layout(template=template)\n",
                "\n",
                "    \n",
                "    # fig.update_layout(\n",
                "    # xaxis_title='Number of Chains',\n",
                "    # yaxis_title='Accuracy',\n",
                "    # xaxis=dict(tickfont=dict(size=20), title_font=dict(size=30), tickvals=number_of_thoughts, ticktext=[str(x) for x in number_of_thoughts]),\n",
                "    # yaxis=dict(tickfont=dict(size=20), title_font=dict(size=30), range=[0, 0.75], tickformat=\".0%\", dtick=0.15),  # 设置 y 轴范围\n",
                "\n",
                "\n",
                "    return fig\n",
                "\n",
                "# Create plots\n",
                "methods = [\"CoT\", \"LtM\", \"ToT\", \"MCTS\"]\n",
                "models = [\"1B\", \"3B\", \"8B\", \"70B\"]\n",
                "dataset_names = [\"AQuA\", \"MMLU\", \"StrategyQA\", \"CommonSenseQA\"]\n",
                "\n",
                "data = {\n",
                "    \"CoT\": [\n",
                "        [[12.0, 20.0, 50.0, 20.0], [16.0, 20.0, 52.0, 26.0]],\n",
                "        [[60.0, 40.0, 30.0, 56.0], [68.0, 46.0, 34.0, 56.0]],\n",
                "        [[74.0, 66.0, 30.0, 68.0], [76.0, 66.0, 43.0, 68.0]],\n",
                "        [[94.0, 86.0, 40.0, 68.0], [96.0, 86.0, 42.0, 68.0]]\n",
                "    ],\n",
                "    \"LtM\": [\n",
                "        [[18.0, 22.0, 32.0, 16.0], [22.0, 22.0, 32.0, 22.0]],\n",
                "        [[34.0, 14.0, 36.0, 32.0], [38.0, 16.0, 36.0, 34.0]],\n",
                "        [[76.0, 66.0, 24.0, 66.0], [78.0, 66.0, 38.0, 66.0]],\n",
                "        [[96.0, 90.0, 32.0, 70.0], [96.0, 90.0, 32.0, 70.0]]\n",
                "    ],\n",
                "    \"ToT\": [\n",
                "        [[34.0, 30.0, 50.0, 26.0], [34.0, 32.0, 58.0, 26.0]],\n",
                "        [[38.0, 32.0, 14.0, 47.0], [38.0, 36.6, 14.0, 51.0]],\n",
                "        [[64.0, 62.0, 12.0, 64.0], [66.0, 68.0, 14.0, 64.0]],\n",
                "        [[98.0, 88.0, 42.0, 66.0], [98.0, 90.0, 44.0, 66.0]]\n",
                "    ],\n",
                "    \"MCTS\": [\n",
                "        [[18.0, 22.0, 46.0, 30.0], [24.0, 22.0, 50.0, 30.0]],\n",
                "        [[44.0, 28.0, 14.0, 54.0], [44.0, 30.0, 18.0, 54.0]],\n",
                "        [[72.0, 60.0, 14.0, 56.0], [72.0, 60.0, 16.0, 56.0]],\n",
                "        [[96.0, 84.0, 40.0, 68.0], [96.0, 84.0, 44.0, 68.0]]\n",
                "    ]\n",
                "}\n",
                "\n",
                "# Create average performance plot\n",
                "avg_data = calculate_averages(data)\n",
                "avg_fig = create_performance_plot(avg_data, methods, models)\n",
                "# avg_fig.show()\n",
                "avg_fig.write_image(\"figures/average_performance.pdf\", scale=6)\n",
                "\n",
                "# Create individual dataset plots\n",
                "for i in range(4):\n",
                "    dataset_fig = create_performance_plot(data, methods, models, dataset_idx=i)\n",
                "    # dataset_fig.show()\n",
                "    dataset_fig.write_image(f\"figures/{dataset_names[i]}_performance.pdf\", scale=6)"
            ]
        }
    ],
    "metadata": {
        "kernelspec": {
            "display_name": "post-training",
            "language": "python",
            "name": "python3"
        },
        "language_info": {
            "codemirror_mode": {
                "name": "ipython",
                "version": 3
            },
            "file_extension": ".py",
            "mimetype": "text/x-python",
            "name": "python",
            "nbconvert_exporter": "python",
            "pygments_lexer": "ipython3",
            "version": "3.10.15"
        }
    },
    "nbformat": 4,
    "nbformat_minor": 2
}
