{
 "cells": [
  {
   "cell_type": "code",
   "execution_count": null,
   "metadata": {},
   "outputs": [],
   "source": [
    "from lot.animation import animate_landscape\n",
    "\n",
    "# for dataset_name in ['aqua', 'mmlu', 'strategyqa', 'commonsenseqa']:\n",
    "#     for model_name in ['Llama-3.2-1B-Instruct', 'Llama-3.2-3B-Instruct', 'Meta-Llama-3.1-70B-Instruct-Turbo', 'Meta-Llama-3.1-8B-Instruct-Turbo']:\n",
    "model_name = 'Meta-Llama-3.1-70B-Instruct-Turbo'\n",
    "dataset_name = 'aqua'\n",
    "\n",
    "animate_landscape(\n",
    "    model_name = model_name,\n",
    "    dataset_name = dataset_name,\n",
    "    plot_type = 'method',\n",
    "    save_root = \"Landscape-Data\",\n",
    "    output_dir = \"figures/animate_landscape\",\n",
    "    window_size = 200,\n",
    "    step_size = 50,\n",
    "    display = True\n",
    ")"
   ]
  }
 ],
 "metadata": {
  "kernelspec": {
   "display_name": "lot",
   "language": "python",
   "name": "python3"
  },
  "language_info": {
   "name": "python",
   "version": "3.10.16"
  }
 },
 "nbformat": 4,
 "nbformat_minor": 2
}
